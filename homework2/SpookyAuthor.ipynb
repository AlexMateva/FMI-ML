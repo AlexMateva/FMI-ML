{
 "cells": [
  {
   "cell_type": "code",
   "execution_count": 2,
   "metadata": {},
   "outputs": [],
   "source": [
    "import pandas as pd\n",
    "import matplotlib.pyplot as plt\n",
    "import numpy as np\n",
    "import seaborn as sns\n",
    "import nltk\n",
    "from sklearn.metrics import confusion_matrix, accuracy_score\n",
    "from sklearn import preprocessing, decomposition, model_selection, metrics, pipeline\n",
    "from sklearn.model_selection import GridSearchCV\n",
    "from sklearn.feature_extraction.text import TfidfVectorizer, CountVectorizer\n",
    "from sklearn.linear_model import LogisticRegression\n",
    "from sklearn.model_selection import train_test_split\n",
    "from sklearn.naive_bayes import MultinomialNB"
   ]
  },
  {
   "cell_type": "code",
   "execution_count": 3,
   "metadata": {},
   "outputs": [
    {
     "name": "stdout",
     "output_type": "stream",
     "text": [
      "(19579, 2) (8392, 1) (8392, 3)\n",
      "{'author'}\n"
     ]
    }
   ],
   "source": [
    "# Зареждане на данните\n",
    "import pandas as pd\n",
    "train = pd.read_csv(\"data/train.zip\", index_col=['id'])\n",
    "test = pd.read_csv(\"data/test.zip\", index_col=['id'])\n",
    "sample_submission = pd.read_csv(\"data/sample_submission.zip\", index_col=['id'])\n",
    "\n",
    "print(train.shape, test.shape, sample_submission.shape)\n",
    "print(set(train.columns) - set(test.columns))"
   ]
  },
  {
   "cell_type": "code",
   "execution_count": 4,
   "metadata": {},
   "outputs": [],
   "source": [
    "import matplotlib.pyplot as plt\n",
    "import seaborn as sns\n",
    "\n",
    "%matplotlib inline\n",
    "\n",
    "train.author = train.author.replace(['EAP', 'HPL', 'MWS'], ['Едгар', 'Хауърд', 'Мери'])"
   ]
  },
  {
   "cell_type": "code",
   "execution_count": 5,
   "metadata": {},
   "outputs": [
    {
     "data": {
      "image/png": "[encoded data removed]",
      "text/plain": [
       "<matplotlib.figure.Figure at 0x7f477753a710>"
      ]
     },
     "metadata": {},
     "output_type": "display_data"
    }
   ],
   "source": [
    "%matplotlib inline\n",
    "sns.countplot(data=train, x='author');"
   ]
  },
  {
   "cell_type": "code",
   "execution_count": 6,
   "metadata": {
    "scrolled": true
   },
   "outputs": [
    {
     "name": "stdout",
     "output_type": "stream",
     "text": [
      "Most used words\n"
     ]
    },
    {
     "data": {
      "text/plain": [
       "the     33296\n",
       "of      20851\n",
       "and     17059\n",
       "to      12615\n",
       "I       10382\n",
       "a       10359\n",
       "in       8787\n",
       "was      6440\n",
       "that     5988\n",
       "my       5037\n",
       "had      4324\n",
       "with     4207\n",
       "his      3802\n",
       "as       3528\n",
       "he       3422\n",
       "dtype: int64"
      ]
     },
     "execution_count": 6,
     "metadata": {},
     "output_type": "execute_result"
    }
   ],
   "source": [
    "all_words = train['text'].str.split(expand=True).unstack().value_counts()\n",
    "print(\"Most used words\")\n",
    "all_words.head(15)"
   ]
  },
  {
   "cell_type": "code",
   "execution_count": 7,
   "metadata": {},
   "outputs": [],
   "source": [
    "eap = train[train.author==\"Едгар\"].text.values\n",
    "hpl = train[train.author==\"Хауърд\"].text.values\n",
    "mws = train[train.author==\"Мери\"].text.values"
   ]
  },
  {
   "cell_type": "code",
   "execution_count": 8,
   "metadata": {},
   "outputs": [],
   "source": [
    "from sklearn.pipeline import Pipeline\n",
    "from sklearn.svm import LinearSVC\n",
    "from sklearn.feature_extraction.text import CountVectorizer\n",
    "from sklearn.model_selection import cross_val_score"
   ]
  },
  {
   "cell_type": "code",
   "execution_count": 9,
   "metadata": {},
   "outputs": [
    {
     "data": {
      "text/plain": [
       "array([ 0.78783701,  0.79635305,  0.79509579])"
      ]
     },
     "execution_count": 9,
     "metadata": {},
     "output_type": "execute_result"
    }
   ],
   "source": [
    "pipeline = Pipeline([\n",
    "    ('features', CountVectorizer()),\n",
    "    ('clf', LinearSVC())\n",
    "])\n",
    "\n",
    "cross_val_score(pipeline, train.text, train.author, cv=3, n_jobs=3)"
   ]
  },
  {
   "cell_type": "code",
   "execution_count": 10,
   "metadata": {},
   "outputs": [],
   "source": [
    "from sklearn.naive_bayes import MultinomialNB"
   ]
  },
  {
   "cell_type": "code",
   "execution_count": 11,
   "metadata": {},
   "outputs": [
    {
     "data": {
      "text/plain": [
       "array([-0.48631897, -0.4762863 , -0.479489  ])"
      ]
     },
     "execution_count": 11,
     "metadata": {},
     "output_type": "execute_result"
    }
   ],
   "source": [
    "clf = MultinomialNB()\n",
    "pipeline = Pipeline([\n",
    "    ('features', CountVectorizer()),\n",
    "    ('clf', MultinomialNB(alpha=1.0, class_prior=None, fit_prior=True))\n",
    "])\n",
    "\n",
    "cross_val_score(pipeline, train.text, train.author, scoring='neg_log_loss', cv=3, n_jobs=3)"
   ]
  },
  {
   "cell_type": "code",
   "execution_count": 12,
   "metadata": {},
   "outputs": [],
   "source": [
    "from sklearn.feature_extraction.text import TfidfVectorizer"
   ]
  },
  {
   "cell_type": "code",
   "execution_count": 13,
   "metadata": {},
   "outputs": [
    {
     "data": {
      "text/plain": [
       "array([-0.62277497, -0.62149725, -0.61790357])"
      ]
     },
     "execution_count": 13,
     "metadata": {},
     "output_type": "execute_result"
    }
   ],
   "source": [
    "pipeline = Pipeline([\n",
    "    ('features', TfidfVectorizer()),\n",
    "    ('clf', MultinomialNB(alpha=1.0, class_prior=None, fit_prior=True))\n",
    "])\n",
    "\n",
    "cross_val_score(pipeline, train.text, train.author, scoring='neg_log_loss', cv=3, n_jobs=3)"
   ]
  },
  {
   "cell_type": "code",
   "execution_count": 14,
   "metadata": {},
   "outputs": [
    {
     "name": "stdout",
     "output_type": "stream",
     "text": [
      "[nltk_data] Downloading package stopwords to /home/alex/nltk_data...\n",
      "[nltk_data]   Package stopwords is already up-to-date!\n",
      "['i', 'me', 'my', 'myself', 'we', 'our', 'ours', 'ourselves', 'you', 'your', 'yours', 'yourself', 'yourselves', 'he', 'him', 'his', 'himself', 'she', 'her', 'hers', 'herself', 'it', 'its', 'itself', 'they', 'them', 'their', 'theirs', 'themselves', 'what', 'which', 'who', 'whom', 'this', 'that', 'these', 'those', 'am', 'is', 'are', 'was', 'were', 'be', 'been', 'being', 'have', 'has', 'had', 'having', 'do', 'does', 'did', 'doing', 'a', 'an', 'the', 'and', 'but', 'if', 'or', 'because', 'as', 'until', 'while', 'of', 'at', 'by', 'for', 'with', 'about', 'against', 'between', 'into', 'through', 'during', 'before', 'after', 'above', 'below', 'to', 'from', 'up', 'down', 'in', 'out', 'on', 'off', 'over', 'under', 'again', 'further', 'then', 'once', 'here', 'there', 'when', 'where', 'why', 'how', 'all', 'any', 'both', 'each', 'few', 'more', 'most', 'other', 'some', 'such', 'no', 'nor', 'not', 'only', 'own', 'same', 'so', 'than', 'too', 'very', 's', 't', 'can', 'will', 'just', 'don', 'should', 'now', 'd', 'll', 'm', 'o', 're', 've', 'y', 'ain', 'aren', 'couldn', 'didn', 'doesn', 'hadn', 'hasn', 'haven', 'isn', 'ma', 'mightn', 'mustn', 'needn', 'shan', 'shouldn', 'wasn', 'weren', 'won', 'wouldn']\n"
     ]
    }
   ],
   "source": [
    "from sklearn.feature_extraction.text import CountVectorizer\n",
    "import nltk\n",
    "from sklearn.naive_bayes import MultinomialNB\n",
    "from sklearn.model_selection import RandomizedSearchCV\n",
    "\n",
    "#nltk.download('stopwords')\n",
    "stopwords = nltk.corpus.stopwords.words('english')\n",
    "print(stopwords)\n",
    "\n",
    "params_count_word = {\"features__ngram_range\": [(1,2), (1,3), (2, 3)],\n",
    "                      \"features__analyzer\": ['word'],\n",
    "                      \"features__max_df\":[1.0, 0.9, 0.8, 0.7, 0.6, 0.5, 0.4, 0.3, 0.2, 0.1 , 0.05],\n",
    "                      \"features__min_df\":[2, 3, 5, 7, 10],\n",
    "                      \"features__lowercase\": [False, True],\n",
    "                      \"features__stop_words\": [None, stopwords]}\n",
    "\n",
    "params_count_char = {\"features__ngram_range\": [(1,4), (1,5), (1,6), (2, 5), (2, 6), (3, 5), (3, 6)],\n",
    "                      \"features__analyzer\": ['char'],\n",
    "                      \"features__max_df\":[1.0, 0.9, 0.8, 0.7, 0.6, 0.5, 0.4, 0.3, 0.2, 0.1 , 0.05],\n",
    "                      \"features__min_df\":[2, 3, 5, 7, 10],\n",
    "                      \"features__lowercase\": [False, True],\n",
    "                      \"features__stop_words\": [None, stopwords]}\n",
    "def report(results, n_top=5):\n",
    "    for i in range(1, n_top + 1):\n",
    "        candidates = np.flatnonzero(results['rank_test_score'] == i)\n",
    "        for candidate in candidates:\n",
    "            print(\"Model with rank: {0}\".format(i))\n",
    "            print(\"Mean validation score: {0:.3f} (std: {1:.3f})\".format(\n",
    "                  results['mean_test_score'][candidate],\n",
    "                  results['std_test_score'][candidate]))\n",
    "            print(\"Parameters: {0}\".format(results['params'][candidate]))\n",
    "            print(\"\")\n",
    "\n",
    "def random_search():\n",
    "    params = {\n",
    "        \"clf__alpha\": [0.01, 0.1, 0.5, 1, 2]\n",
    "    }\n",
    "\n",
    "    params.update(params_count_word)\n",
    "\n",
    "    pipeline = Pipeline([\n",
    "        ('features', CountVectorizer()),\n",
    "        ('clf', MultinomialNB())\n",
    "    ])\n",
    "\n",
    "    random_search = RandomizedSearchCV(pipeline, param_distributions=params, \n",
    "                                       scoring='neg_log_loss',\n",
    "                                       n_iter=20, cv=3, n_jobs=4)\n",
    "\n",
    "    random_search.fit(train.text, train.author)\n",
    "    report(random_search.cv_results_)\n",
    "\n",
    "    \n"
   ]
  },
  {
   "cell_type": "code",
   "execution_count": 15,
   "metadata": {},
   "outputs": [
    {
     "name": "stdout",
     "output_type": "stream",
     "text": [
      "Model with rank: 1\n",
      "Mean validation score: -0.500 (std: 0.009)\n",
      "Parameters: {'features__ngram_range': (1, 3), 'features__max_df': 0.6, 'clf__alpha': 0.5, 'features__min_df': 3, 'features__stop_words': ['i', 'me', 'my', 'myself', 'we', 'our', 'ours', 'ourselves', 'you', 'your', 'yours', 'yourself', 'yourselves', 'he', 'him', 'his', 'himself', 'she', 'her', 'hers', 'herself', 'it', 'its', 'itself', 'they', 'them', 'their', 'theirs', 'themselves', 'what', 'which', 'who', 'whom', 'this', 'that', 'these', 'those', 'am', 'is', 'are', 'was', 'were', 'be', 'been', 'being', 'have', 'has', 'had', 'having', 'do', 'does', 'did', 'doing', 'a', 'an', 'the', 'and', 'but', 'if', 'or', 'because', 'as', 'until', 'while', 'of', 'at', 'by', 'for', 'with', 'about', 'against', 'between', 'into', 'through', 'during', 'before', 'after', 'above', 'below', 'to', 'from', 'up', 'down', 'in', 'out', 'on', 'off', 'over', 'under', 'again', 'further', 'then', 'once', 'here', 'there', 'when', 'where', 'why', 'how', 'all', 'any', 'both', 'each', 'few', 'more', 'most', 'other', 'some', 'such', 'no', 'nor', 'not', 'only', 'own', 'same', 'so', 'than', 'too', 'very', 's', 't', 'can', 'will', 'just', 'don', 'should', 'now', 'd', 'll', 'm', 'o', 're', 've', 'y', 'ain', 'aren', 'couldn', 'didn', 'doesn', 'hadn', 'hasn', 'haven', 'isn', 'ma', 'mightn', 'mustn', 'needn', 'shan', 'shouldn', 'wasn', 'weren', 'won', 'wouldn'], 'features__lowercase': False, 'features__analyzer': 'word'}\n",
      "\n",
      "Model with rank: 2\n",
      "Mean validation score: -0.503 (std: 0.010)\n",
      "Parameters: {'features__ngram_range': (1, 3), 'features__max_df': 0.7, 'clf__alpha': 0.5, 'features__min_df': 2, 'features__stop_words': ['i', 'me', 'my', 'myself', 'we', 'our', 'ours', 'ourselves', 'you', 'your', 'yours', 'yourself', 'yourselves', 'he', 'him', 'his', 'himself', 'she', 'her', 'hers', 'herself', 'it', 'its', 'itself', 'they', 'them', 'their', 'theirs', 'themselves', 'what', 'which', 'who', 'whom', 'this', 'that', 'these', 'those', 'am', 'is', 'are', 'was', 'were', 'be', 'been', 'being', 'have', 'has', 'had', 'having', 'do', 'does', 'did', 'doing', 'a', 'an', 'the', 'and', 'but', 'if', 'or', 'because', 'as', 'until', 'while', 'of', 'at', 'by', 'for', 'with', 'about', 'against', 'between', 'into', 'through', 'during', 'before', 'after', 'above', 'below', 'to', 'from', 'up', 'down', 'in', 'out', 'on', 'off', 'over', 'under', 'again', 'further', 'then', 'once', 'here', 'there', 'when', 'where', 'why', 'how', 'all', 'any', 'both', 'each', 'few', 'more', 'most', 'other', 'some', 'such', 'no', 'nor', 'not', 'only', 'own', 'same', 'so', 'than', 'too', 'very', 's', 't', 'can', 'will', 'just', 'don', 'should', 'now', 'd', 'll', 'm', 'o', 're', 've', 'y', 'ain', 'aren', 'couldn', 'didn', 'doesn', 'hadn', 'hasn', 'haven', 'isn', 'ma', 'mightn', 'mustn', 'needn', 'shan', 'shouldn', 'wasn', 'weren', 'won', 'wouldn'], 'features__lowercase': True, 'features__analyzer': 'word'}\n",
      "\n",
      "Model with rank: 3\n",
      "Mean validation score: -0.520 (std: 0.008)\n",
      "Parameters: {'features__ngram_range': (1, 2), 'features__max_df': 0.5, 'clf__alpha': 0.5, 'features__min_df': 5, 'features__stop_words': ['i', 'me', 'my', 'myself', 'we', 'our', 'ours', 'ourselves', 'you', 'your', 'yours', 'yourself', 'yourselves', 'he', 'him', 'his', 'himself', 'she', 'her', 'hers', 'herself', 'it', 'its', 'itself', 'they', 'them', 'their', 'theirs', 'themselves', 'what', 'which', 'who', 'whom', 'this', 'that', 'these', 'those', 'am', 'is', 'are', 'was', 'were', 'be', 'been', 'being', 'have', 'has', 'had', 'having', 'do', 'does', 'did', 'doing', 'a', 'an', 'the', 'and', 'but', 'if', 'or', 'because', 'as', 'until', 'while', 'of', 'at', 'by', 'for', 'with', 'about', 'against', 'between', 'into', 'through', 'during', 'before', 'after', 'above', 'below', 'to', 'from', 'up', 'down', 'in', 'out', 'on', 'off', 'over', 'under', 'again', 'further', 'then', 'once', 'here', 'there', 'when', 'where', 'why', 'how', 'all', 'any', 'both', 'each', 'few', 'more', 'most', 'other', 'some', 'such', 'no', 'nor', 'not', 'only', 'own', 'same', 'so', 'than', 'too', 'very', 's', 't', 'can', 'will', 'just', 'don', 'should', 'now', 'd', 'll', 'm', 'o', 're', 've', 'y', 'ain', 'aren', 'couldn', 'didn', 'doesn', 'hadn', 'hasn', 'haven', 'isn', 'ma', 'mightn', 'mustn', 'needn', 'shan', 'shouldn', 'wasn', 'weren', 'won', 'wouldn'], 'features__lowercase': False, 'features__analyzer': 'word'}\n",
      "\n",
      "Model with rank: 4\n",
      "Mean validation score: -0.590 (std: 0.013)\n",
      "Parameters: {'features__ngram_range': (1, 3), 'features__max_df': 0.6, 'clf__alpha': 0.1, 'features__min_df': 5, 'features__stop_words': ['i', 'me', 'my', 'myself', 'we', 'our', 'ours', 'ourselves', 'you', 'your', 'yours', 'yourself', 'yourselves', 'he', 'him', 'his', 'himself', 'she', 'her', 'hers', 'herself', 'it', 'its', 'itself', 'they', 'them', 'their', 'theirs', 'themselves', 'what', 'which', 'who', 'whom', 'this', 'that', 'these', 'those', 'am', 'is', 'are', 'was', 'were', 'be', 'been', 'being', 'have', 'has', 'had', 'having', 'do', 'does', 'did', 'doing', 'a', 'an', 'the', 'and', 'but', 'if', 'or', 'because', 'as', 'until', 'while', 'of', 'at', 'by', 'for', 'with', 'about', 'against', 'between', 'into', 'through', 'during', 'before', 'after', 'above', 'below', 'to', 'from', 'up', 'down', 'in', 'out', 'on', 'off', 'over', 'under', 'again', 'further', 'then', 'once', 'here', 'there', 'when', 'where', 'why', 'how', 'all', 'any', 'both', 'each', 'few', 'more', 'most', 'other', 'some', 'such', 'no', 'nor', 'not', 'only', 'own', 'same', 'so', 'than', 'too', 'very', 's', 't', 'can', 'will', 'just', 'don', 'should', 'now', 'd', 'll', 'm', 'o', 're', 've', 'y', 'ain', 'aren', 'couldn', 'didn', 'doesn', 'hadn', 'hasn', 'haven', 'isn', 'ma', 'mightn', 'mustn', 'needn', 'shan', 'shouldn', 'wasn', 'weren', 'won', 'wouldn'], 'features__lowercase': False, 'features__analyzer': 'word'}\n",
      "\n",
      "Model with rank: 5\n",
      "Mean validation score: -0.637 (std: 0.015)\n",
      "Parameters: {'features__ngram_range': (1, 3), 'features__max_df': 0.7, 'clf__alpha': 2, 'features__min_df': 3, 'features__stop_words': None, 'features__lowercase': False, 'features__analyzer': 'word'}\n",
      "\n",
      "[-0.48631897 -0.4762863  -0.479489  ]\n"
     ]
    }
   ],
   "source": [
    "random_search()\n",
    "pipeline = Pipeline([\n",
    "    ('features', CountVectorizer()),\n",
    "    ('clf', MultinomialNB())\n",
    "])\n",
    "print(cross_val_score(pipeline, train.text, train.author, cv=3, n_jobs=3, \n",
    "                      scoring='neg_log_loss'))"
   ]
  },
  {
   "cell_type": "code",
   "execution_count": 16,
   "metadata": {},
   "outputs": [
    {
     "name": "stdout",
     "output_type": "stream",
     "text": [
      "[nltk_data] Downloading package punkt to /home/alex/nltk_data...\n",
      "[nltk_data]   Package punkt is already up-to-date!\n",
      "[ 0.83976716  0.84753295  0.84781609]\n",
      "[-1.2407899  -1.21859699 -1.23812869]\n"
     ]
    }
   ],
   "source": [
    "import string\n",
    "import nltk\n",
    "from nltk.corpus import stopwords\n",
    "from nltk.stem import PorterStemmer\n",
    "from nltk import word_tokenize\n",
    "\n",
    "nltk.download('punkt')\n",
    "def stemming_tokenizer(text):\n",
    "    stemmer = PorterStemmer()\n",
    "    return [stemmer.stem(w) for w in word_tokenize(text)]\n",
    "\n",
    "pipeline = Pipeline([\n",
    "    ('features', CountVectorizer(ngram_range=(1, 2),\n",
    "                                 min_df=2,\n",
    "                                 max_df=0.8,\n",
    "                                 lowercase=False,\n",
    "                                 tokenizer=stemming_tokenizer)),\n",
    "#                                  stop_words=stopwords.words('english') + list(string.punctuation))),\n",
    "    ('clf', MultinomialNB(alpha=0.01))\n",
    "])\n",
    "\n",
    "print(cross_val_score(pipeline, train.text, train.author, cv=3, n_jobs=5))\n",
    "print(cross_val_score(pipeline, train.text, train.author, cv=3, n_jobs=5, \n",
    "                      scoring='neg_log_loss'))"
   ]
  },
  {
   "cell_type": "code",
   "execution_count": 17,
   "metadata": {},
   "outputs": [
    {
     "name": "stdout",
     "output_type": "stream",
     "text": [
      "[nltk_data] Downloading package punkt to /home/alex/nltk_data...\n",
      "[nltk_data]   Package punkt is already up-to-date!\n",
      "[ 0.84129902  0.84829911  0.8456705 ]\n",
      "[-0.39106583 -0.38602577 -0.38741785]\n"
     ]
    }
   ],
   "source": [
    "import string\n",
    "import nltk\n",
    "from nltk.corpus import stopwords\n",
    "from nltk.stem import PorterStemmer\n",
    "from nltk import word_tokenize\n",
    "\n",
    "nltk.download('punkt')\n",
    "def stemming_tokenizer(text):\n",
    "    stemmer = PorterStemmer()\n",
    "    return [stemmer.stem(w) for w in word_tokenize(text)]\n",
    "\n",
    "pipeline = Pipeline([\n",
    "    ('features', TfidfVectorizer(ngram_range=(1, 2),\n",
    "                                 min_df=2,\n",
    "                                 max_df=0.8,\n",
    "                                 lowercase=False,\n",
    "                                 tokenizer=stemming_tokenizer)),\n",
    "#                                  stop_words=stopwords.words('english') + list(string.punctuation))),\n",
    "    ('clf', MultinomialNB(alpha=0.01))\n",
    "])\n",
    "\n",
    "print(cross_val_score(pipeline, train.text, train.author, cv=3, n_jobs=5))\n",
    "print(cross_val_score(pipeline, train.text, train.author, cv=3, n_jobs=5, \n",
    "                      scoring='neg_log_loss'))"
   ]
  },
  {
   "cell_type": "code",
   "execution_count": 23,
   "metadata": {},
   "outputs": [
    {
     "name": "stdout",
     "output_type": "stream",
     "text": [
      "[nltk_data] Downloading package punkt to /home/alex/nltk_data...\n",
      "[nltk_data]   Package punkt is already up-to-date!\n",
      "[ 0.84436275  0.84875881  0.84689655]\n",
      "[-0.38803888 -0.38472538 -0.38957178]\n"
     ]
    }
   ],
   "source": [
    "import string\n",
    "import nltk\n",
    "from nltk.corpus import stopwords\n",
    "from nltk.stem import PorterStemmer, LancasterStemmer, ISRIStemmer\n",
    "from nltk import word_tokenize\n",
    "\n",
    "nltk.download('punkt')\n",
    "def stemming_tokenizer(text):\n",
    "    stemmer = ISRIStemmer()\n",
    "    return [stemmer.stem(w) for w in word_tokenize(text)]\n",
    "\n",
    "pipeline = Pipeline([\n",
    "    ('features', TfidfVectorizer(ngram_range=(1, 2),\n",
    "                                 min_df=2,\n",
    "                                 max_df=0.8,\n",
    "                                 lowercase=False,\n",
    "                                 tokenizer=stemming_tokenizer)),\n",
    "#                                  stop_words=stopwords.words('english') + list(string.punctuation))),\n",
    "    ('clf', MultinomialNB(alpha=0.01))\n",
    "])\n",
    "\n",
    "print(cross_val_score(pipeline, train.text, train.author, cv=3, n_jobs=8))\n",
    "print(cross_val_score(pipeline, train.text, train.author, cv=3, n_jobs=8, \n",
    "                      scoring='neg_log_loss'))"
   ]
  },
  {
   "cell_type": "code",
   "execution_count": 24,
   "metadata": {},
   "outputs": [],
   "source": [
    "from sklearn.ensemble import RandomForestClassifier"
   ]
  },
  {
   "cell_type": "code",
   "execution_count": 33,
   "metadata": {},
   "outputs": [
    {
     "name": "stdout",
     "output_type": "stream",
     "text": [
      "[ 0.66283701  0.64817652  0.66099617]\n",
      "[-0.89955223 -0.90454158 -0.89679078]\n"
     ]
    }
   ],
   "source": [
    "def stemming_tokenizer(text):\n",
    "    stemmer = ISRIStemmer()\n",
    "    return [stemmer.stem(w) for w in word_tokenize(text)]\n",
    "\n",
    "pipeline = Pipeline([\n",
    "    ('features', TfidfVectorizer(ngram_range=(1, 2),\n",
    "                                 min_df=2,\n",
    "                                 max_df=0.8,\n",
    "                                 lowercase=False,\n",
    "                                 tokenizer=stemming_tokenizer)),\n",
    "    ('clf', RandomForestClassifier(n_estimators=40, n_jobs=8, random_state=120, max_depth=40, criterion='gini'))\n",
    "])\n",
    "\n",
    "print(cross_val_score(pipeline, train.text, train.author, cv=3, n_jobs=8))\n",
    "print(cross_val_score(pipeline, train.text, train.author, cv=3, n_jobs=8, \n",
    "                      scoring='neg_log_loss'))"
   ]
  },
  {
   "cell_type": "code",
   "execution_count": 44,
   "metadata": {},
   "outputs": [
    {
     "name": "stdout",
     "output_type": "stream",
     "text": [
      "Fitting 3 folds for each of 12 candidates, totalling 36 fits\n"
     ]
    },
    {
     "name": "stderr",
     "output_type": "stream",
     "text": [
      "/usr/local/lib/python3.5/dist-packages/sklearn/externals/joblib/parallel.py:547: UserWarning: Multiprocessing-backed parallel loops cannot be nested, setting n_jobs=1\n",
      "  **self._backend_args)\n"
     ]
    },
    {
     "name": "stdout",
     "output_type": "stream",
     "text": [
      "[CV] lr__C=0.1, svd__n_components=120, lr__penalty=l1 ................\n",
      "Fitting 3 folds for each of 12 candidates, totalling 36 fits\n"
     ]
    },
    {
     "name": "stderr",
     "output_type": "stream",
     "text": [
      "/usr/local/lib/python3.5/dist-packages/sklearn/externals/joblib/parallel.py:547: UserWarning: Multiprocessing-backed parallel loops cannot be nested, setting n_jobs=1\n",
      "  **self._backend_args)\n"
     ]
    },
    {
     "name": "stdout",
     "output_type": "stream",
     "text": [
      "[CV] lr__C=0.1, svd__n_components=120, lr__penalty=l1 ................\n",
      "Fitting 3 folds for each of 12 candidates, totalling 36 fits\n"
     ]
    },
    {
     "name": "stderr",
     "output_type": "stream",
     "text": [
      "/usr/local/lib/python3.5/dist-packages/sklearn/externals/joblib/parallel.py:547: UserWarning: Multiprocessing-backed parallel loops cannot be nested, setting n_jobs=1\n",
      "  **self._backend_args)\n"
     ]
    },
    {
     "name": "stdout",
     "output_type": "stream",
     "text": [
      "[CV] lr__C=0.1, svd__n_components=120, lr__penalty=l1 ................\n",
      "[CV]  lr__C=0.1, svd__n_components=120, lr__penalty=l1, score=-0.9174739548471665, total=  13.6s\n"
     ]
    },
    {
     "name": "stderr",
     "output_type": "stream",
     "text": [
      "[Parallel(n_jobs=8)]: Done   1 out of   1 | elapsed:   13.7s remaining:    0.0s\n"
     ]
    },
    {
     "name": "stdout",
     "output_type": "stream",
     "text": [
      "[CV] lr__C=0.1, svd__n_components=120, lr__penalty=l1 ................\n",
      "[CV]  lr__C=0.1, svd__n_components=120, lr__penalty=l1, score=-0.9274827984653506, total=  13.8s\n"
     ]
    },
    {
     "name": "stderr",
     "output_type": "stream",
     "text": [
      "[Parallel(n_jobs=8)]: Done   1 out of   1 | elapsed:   13.9s remaining:    0.0s\n"
     ]
    },
    {
     "name": "stdout",
     "output_type": "stream",
     "text": [
      "[CV] lr__C=0.1, svd__n_components=120, lr__penalty=l1 ................\n",
      "[CV]  lr__C=0.1, svd__n_components=120, lr__penalty=l1, score=-0.9082483231620134, total=  13.6s\n"
     ]
    },
    {
     "name": "stderr",
     "output_type": "stream",
     "text": [
      "[Parallel(n_jobs=8)]: Done   1 out of   1 | elapsed:   13.7s remaining:    0.0s\n"
     ]
    },
    {
     "name": "stdout",
     "output_type": "stream",
     "text": [
      "[CV] lr__C=0.1, svd__n_components=120, lr__penalty=l1 ................\n",
      "[CV]  lr__C=0.1, svd__n_components=120, lr__penalty=l1, score=-0.9181243829255114, total=  12.5s\n"
     ]
    },
    {
     "name": "stderr",
     "output_type": "stream",
     "text": [
      "[Parallel(n_jobs=8)]: Done   2 out of   2 | elapsed:   26.4s remaining:    0.0s\n"
     ]
    },
    {
     "name": "stdout",
     "output_type": "stream",
     "text": [
      "[CV] lr__C=0.1, svd__n_components=120, lr__penalty=l1 ................\n",
      "[CV]  lr__C=0.1, svd__n_components=120, lr__penalty=l1, score=-0.9181371455212605, total=  12.3s\n"
     ]
    },
    {
     "name": "stderr",
     "output_type": "stream",
     "text": [
      "[Parallel(n_jobs=8)]: Done   2 out of   2 | elapsed:   26.4s remaining:    0.0s\n"
     ]
    },
    {
     "name": "stdout",
     "output_type": "stream",
     "text": [
      "[CV] lr__C=0.1, svd__n_components=120, lr__penalty=l1 ................\n",
      "[CV]  lr__C=0.1, svd__n_components=120, lr__penalty=l1, score=-0.9214623680409578, total=  12.5s\n"
     ]
    },
    {
     "name": "stderr",
     "output_type": "stream",
     "text": [
      "[Parallel(n_jobs=8)]: Done   2 out of   2 | elapsed:   26.4s remaining:    0.0s\n"
     ]
    },
    {
     "name": "stdout",
     "output_type": "stream",
     "text": [
      "[CV] lr__C=0.1, svd__n_components=120, lr__penalty=l1 ................\n",
      "[CV]  lr__C=0.1, svd__n_components=120, lr__penalty=l1, score=-0.9282811303463558, total=  12.6s\n"
     ]
    },
    {
     "name": "stderr",
     "output_type": "stream",
     "text": [
      "[Parallel(n_jobs=8)]: Done   3 out of   3 | elapsed:   39.1s remaining:    0.0s\n"
     ]
    },
    {
     "name": "stdout",
     "output_type": "stream",
     "text": [
      "[CV] lr__C=0.1, svd__n_components=180, lr__penalty=l1 ................\n",
      "[CV]  lr__C=0.1, svd__n_components=120, lr__penalty=l1, score=-0.9201532738484897, total=  12.6s\n"
     ]
    },
    {
     "name": "stderr",
     "output_type": "stream",
     "text": [
      "[Parallel(n_jobs=8)]: Done   3 out of   3 | elapsed:   39.1s remaining:    0.0s\n"
     ]
    },
    {
     "name": "stdout",
     "output_type": "stream",
     "text": [
      "[CV] lr__C=0.1, svd__n_components=180, lr__penalty=l1 ................\n",
      "[CV]  lr__C=0.1, svd__n_components=120, lr__penalty=l1, score=-0.9185220879585279, total=  12.5s\n"
     ]
    },
    {
     "name": "stderr",
     "output_type": "stream",
     "text": [
      "[Parallel(n_jobs=8)]: Done   3 out of   3 | elapsed:   39.1s remaining:    0.0s\n"
     ]
    },
    {
     "name": "stdout",
     "output_type": "stream",
     "text": [
      "[CV] lr__C=0.1, svd__n_components=180, lr__penalty=l1 ................\n",
      "[CV]  lr__C=0.1, svd__n_components=180, lr__penalty=l1, score=-0.9175860770777683, total=  17.0s\n"
     ]
    },
    {
     "name": "stderr",
     "output_type": "stream",
     "text": [
      "[Parallel(n_jobs=8)]: Done   4 out of   4 | elapsed:   56.4s remaining:    0.0s\n"
     ]
    },
    {
     "name": "stdout",
     "output_type": "stream",
     "text": [
      "[CV] lr__C=0.1, svd__n_components=180, lr__penalty=l1 ................\n",
      "[CV]  lr__C=0.1, svd__n_components=180, lr__penalty=l1, score=-0.9271388049802423, total=  17.3s\n"
     ]
    },
    {
     "name": "stderr",
     "output_type": "stream",
     "text": [
      "[Parallel(n_jobs=8)]: Done   4 out of   4 | elapsed:   56.7s remaining:    0.0s\n"
     ]
    },
    {
     "name": "stdout",
     "output_type": "stream",
     "text": [
      "[CV] lr__C=0.1, svd__n_components=180, lr__penalty=l1 ................\n",
      "[CV]  lr__C=0.1, svd__n_components=180, lr__penalty=l1, score=-0.9079113625376712, total=  18.8s\n"
     ]
    },
    {
     "name": "stderr",
     "output_type": "stream",
     "text": [
      "[Parallel(n_jobs=8)]: Done   4 out of   4 | elapsed:   58.2s remaining:    0.0s\n"
     ]
    },
    {
     "name": "stdout",
     "output_type": "stream",
     "text": [
      "[CV] lr__C=0.1, svd__n_components=180, lr__penalty=l1 ................\n",
      "[CV]  lr__C=0.1, svd__n_components=180, lr__penalty=l1, score=-0.9176840567918837, total=  16.8s\n"
     ]
    },
    {
     "name": "stderr",
     "output_type": "stream",
     "text": [
      "[Parallel(n_jobs=8)]: Done   5 out of   5 | elapsed:  1.2min remaining:    0.0s\n"
     ]
    },
    {
     "name": "stdout",
     "output_type": "stream",
     "text": [
      "[CV] lr__C=0.1, svd__n_components=180, lr__penalty=l1 ................\n",
      "[CV]  lr__C=0.1, svd__n_components=180, lr__penalty=l1, score=-0.9189575339529413, total=  17.0s\n"
     ]
    },
    {
     "name": "stderr",
     "output_type": "stream",
     "text": [
      "[Parallel(n_jobs=8)]: Done   5 out of   5 | elapsed:  1.2min remaining:    0.0s\n"
     ]
    },
    {
     "name": "stdout",
     "output_type": "stream",
     "text": [
      "[CV] lr__C=0.1, svd__n_components=180, lr__penalty=l1 ................\n",
      "[CV]  lr__C=0.1, svd__n_components=180, lr__penalty=l1, score=-0.9214633193305052, total=  17.8s\n"
     ]
    },
    {
     "name": "stderr",
     "output_type": "stream",
     "text": [
      "[Parallel(n_jobs=8)]: Done   5 out of   5 | elapsed:  1.3min remaining:    0.0s\n"
     ]
    },
    {
     "name": "stdout",
     "output_type": "stream",
     "text": [
      "[CV] lr__C=0.1, svd__n_components=180, lr__penalty=l1 ................\n",
      "[CV]  lr__C=0.1, svd__n_components=180, lr__penalty=l1, score=-0.9311353508638641, total=  16.8s\n"
     ]
    },
    {
     "name": "stderr",
     "output_type": "stream",
     "text": [
      "[Parallel(n_jobs=8)]: Done   6 out of   6 | elapsed:  1.5min remaining:    0.0s\n"
     ]
    },
    {
     "name": "stdout",
     "output_type": "stream",
     "text": [
      "[CV] lr__C=0.1, svd__n_components=120, lr__penalty=l2 ................\n",
      "[CV]  lr__C=0.1, svd__n_components=180, lr__penalty=l1, score=-0.920007672465314, total=  16.3s\n"
     ]
    },
    {
     "name": "stderr",
     "output_type": "stream",
     "text": [
      "[Parallel(n_jobs=8)]: Done   6 out of   6 | elapsed:  1.5min remaining:    0.0s\n"
     ]
    },
    {
     "name": "stdout",
     "output_type": "stream",
     "text": [
      "[CV] lr__C=0.1, svd__n_components=120, lr__penalty=l2 ................\n",
      "[CV]  lr__C=0.1, svd__n_components=180, lr__penalty=l1, score=-0.9178654633035175, total=  18.0s\n"
     ]
    },
    {
     "name": "stderr",
     "output_type": "stream",
     "text": [
      "[Parallel(n_jobs=8)]: Done   6 out of   6 | elapsed:  1.6min remaining:    0.0s\n"
     ]
    },
    {
     "name": "stdout",
     "output_type": "stream",
     "text": [
      "[CV] lr__C=0.1, svd__n_components=120, lr__penalty=l2 ................\n",
      "[CV]  lr__C=0.1, svd__n_components=120, lr__penalty=l2, score=-0.9758332225305264, total=  10.6s\n"
     ]
    },
    {
     "name": "stderr",
     "output_type": "stream",
     "text": [
      "[Parallel(n_jobs=8)]: Done   7 out of   7 | elapsed:  1.7min remaining:    0.0s\n"
     ]
    },
    {
     "name": "stdout",
     "output_type": "stream",
     "text": [
      "[CV] lr__C=0.1, svd__n_components=120, lr__penalty=l2 ................\n",
      "[CV]  lr__C=0.1, svd__n_components=120, lr__penalty=l2, score=-0.9726276343977142, total=  11.0s\n"
     ]
    },
    {
     "name": "stderr",
     "output_type": "stream",
     "text": [
      "[Parallel(n_jobs=8)]: Done   7 out of   7 | elapsed:  1.7min remaining:    0.0s\n"
     ]
    },
    {
     "name": "stdout",
     "output_type": "stream",
     "text": [
      "[CV] lr__C=0.1, svd__n_components=120, lr__penalty=l2 ................\n",
      "[CV]  lr__C=0.1, svd__n_components=120, lr__penalty=l2, score=-0.9702510838634367, total=  11.2s\n"
     ]
    },
    {
     "name": "stderr",
     "output_type": "stream",
     "text": [
      "[Parallel(n_jobs=8)]: Done   7 out of   7 | elapsed:  1.8min remaining:    0.0s\n"
     ]
    },
    {
     "name": "stdout",
     "output_type": "stream",
     "text": [
      "[CV] lr__C=0.1, svd__n_components=120, lr__penalty=l2 ................\n",
      "[CV]  lr__C=0.1, svd__n_components=120, lr__penalty=l2, score=-0.9695390424598719, total=  11.1s\n",
      "[CV]  lr__C=0.1, svd__n_components=120, lr__penalty=l2, score=-0.9738933333969855, total=  10.6s\n"
     ]
    },
    {
     "name": "stderr",
     "output_type": "stream",
     "text": [
      "[Parallel(n_jobs=8)]: Done   8 out of   8 | elapsed:  1.9min remaining:    0.0s\n",
      "[Parallel(n_jobs=8)]: Done   8 out of   8 | elapsed:  1.9min remaining:    0.0s\n"
     ]
    },
    {
     "name": "stdout",
     "output_type": "stream",
     "text": [
      "[CV] lr__C=0.1, svd__n_components=120, lr__penalty=l2 ................\n",
      "[CV] lr__C=0.1, svd__n_components=120, lr__penalty=l2 ................\n",
      "[CV]  lr__C=0.1, svd__n_components=120, lr__penalty=l2, score=-0.969903617889489, total=  10.7s\n"
     ]
    },
    {
     "name": "stderr",
     "output_type": "stream",
     "text": [
      "[Parallel(n_jobs=8)]: Done   8 out of   8 | elapsed:  1.9min remaining:    0.0s\n"
     ]
    },
    {
     "name": "stdout",
     "output_type": "stream",
     "text": [
      "[CV] lr__C=0.1, svd__n_components=120, lr__penalty=l2 ................\n",
      "[CV]  lr__C=0.1, svd__n_components=120, lr__penalty=l2, score=-0.9699208092324847, total=  10.6s\n"
     ]
    },
    {
     "name": "stderr",
     "output_type": "stream",
     "text": [
      "[Parallel(n_jobs=8)]: Done   9 out of   9 | elapsed:  2.1min remaining:    0.0s\n"
     ]
    },
    {
     "name": "stdout",
     "output_type": "stream",
     "text": [
      "[CV] lr__C=0.1, svd__n_components=180, lr__penalty=l2 ................\n",
      "[CV]  lr__C=0.1, svd__n_components=120, lr__penalty=l2, score=-0.9747477176392872, total=  11.4s\n"
     ]
    },
    {
     "name": "stderr",
     "output_type": "stream",
     "text": [
      "[Parallel(n_jobs=8)]: Done   9 out of   9 | elapsed:  2.1min remaining:    0.0s\n"
     ]
    },
    {
     "name": "stdout",
     "output_type": "stream",
     "text": [
      "[CV] lr__C=0.1, svd__n_components=180, lr__penalty=l2 ................\n",
      "[CV]  lr__C=0.1, svd__n_components=120, lr__penalty=l2, score=-0.9689996424544572, total=  11.9s\n"
     ]
    },
    {
     "name": "stderr",
     "output_type": "stream",
     "text": [
      "[Parallel(n_jobs=8)]: Done   9 out of   9 | elapsed:  2.2min remaining:    0.0s\n"
     ]
    },
    {
     "name": "stdout",
     "output_type": "stream",
     "text": [
      "[CV] lr__C=0.1, svd__n_components=180, lr__penalty=l2 ................\n",
      "[CV]  lr__C=0.1, svd__n_components=180, lr__penalty=l2, score=-0.9688760420973849, total=  15.6s\n",
      "[CV] lr__C=0.1, svd__n_components=180, lr__penalty=l2 ................\n",
      "[CV]  lr__C=0.1, svd__n_components=180, lr__penalty=l2, score=-0.967040323960806, total=  16.6s\n",
      "[CV] lr__C=0.1, svd__n_components=180, lr__penalty=l2 ................\n",
      "[CV]  lr__C=0.1, svd__n_components=180, lr__penalty=l2, score=-0.9642452613363007, total=  18.6s\n",
      "[CV] lr__C=0.1, svd__n_components=180, lr__penalty=l2 ................\n",
      "[CV]  lr__C=0.1, svd__n_components=180, lr__penalty=l2, score=-0.9635522493922293, total=  18.7s\n",
      "[CV] lr__C=0.1, svd__n_components=180, lr__penalty=l2 ................\n",
      "[CV]  lr__C=0.1, svd__n_components=180, lr__penalty=l2, score=-0.9685069125819684, total=  17.3s\n",
      "[CV] lr__C=0.1, svd__n_components=180, lr__penalty=l2 ................\n",
      "[CV]  lr__C=0.1, svd__n_components=180, lr__penalty=l2, score=-0.9658358952441434, total=  18.8s\n",
      "[CV] lr__C=0.1, svd__n_components=180, lr__penalty=l2 ................\n",
      "[CV]  lr__C=0.1, svd__n_components=180, lr__penalty=l2, score=-0.9697295534864865, total=  16.8s\n",
      "[CV] lr__C=1.0, svd__n_components=120, lr__penalty=l1 ................\n",
      "[CV]  lr__C=0.1, svd__n_components=180, lr__penalty=l2, score=-0.9641122788385218, total=  17.3s\n",
      "[CV] lr__C=1.0, svd__n_components=120, lr__penalty=l1 ................\n",
      "[CV]  lr__C=0.1, svd__n_components=180, lr__penalty=l2, score=-0.9640442433455467, total=  18.4s\n",
      "[CV] lr__C=1.0, svd__n_components=120, lr__penalty=l1 ................\n",
      "[CV]  lr__C=1.0, svd__n_components=120, lr__penalty=l1, score=-0.745610624348042, total=  11.5s\n",
      "[CV] lr__C=1.0, svd__n_components=120, lr__penalty=l1 ................\n",
      "[CV]  lr__C=1.0, svd__n_components=120, lr__penalty=l1, score=-0.7488581417456167, total=  11.4s\n",
      "[CV] lr__C=1.0, svd__n_components=120, lr__penalty=l1 ................\n",
      "[CV]  lr__C=1.0, svd__n_components=120, lr__penalty=l1, score=-0.7307418190939358, total=  11.8s\n",
      "[CV] lr__C=1.0, svd__n_components=120, lr__penalty=l1 ................\n",
      "[CV]  lr__C=1.0, svd__n_components=120, lr__penalty=l1, score=-0.7494573643208358, total=  11.0s\n",
      "[CV] lr__C=1.0, svd__n_components=120, lr__penalty=l1 ................\n",
      "[CV]  lr__C=1.0, svd__n_components=120, lr__penalty=l1, score=-0.7347390000848536, total=  11.5s\n",
      "[CV] lr__C=1.0, svd__n_components=120, lr__penalty=l1 ................\n",
      "[CV]  lr__C=1.0, svd__n_components=120, lr__penalty=l1, score=-0.7371460144240554, total=  11.5s\n",
      "[CV] lr__C=1.0, svd__n_components=120, lr__penalty=l1 ................\n",
      "[CV]  lr__C=1.0, svd__n_components=120, lr__penalty=l1, score=-0.7454468829486407, total=  11.3s\n",
      "[CV] lr__C=1.0, svd__n_components=180, lr__penalty=l1 ................\n",
      "[CV]  lr__C=1.0, svd__n_components=120, lr__penalty=l1, score=-0.7245976598075735, total=  11.4s\n",
      "[CV] lr__C=1.0, svd__n_components=180, lr__penalty=l1 ................\n",
      "[CV]  lr__C=1.0, svd__n_components=120, lr__penalty=l1, score=-0.7436428851921685, total=  11.7s\n",
      "[CV] lr__C=1.0, svd__n_components=180, lr__penalty=l1 ................\n",
      "[CV]  lr__C=1.0, svd__n_components=180, lr__penalty=l1, score=-0.6954199197185338, total=  18.6s\n",
      "[CV] lr__C=1.0, svd__n_components=180, lr__penalty=l1 ................\n",
      "[CV]  lr__C=1.0, svd__n_components=180, lr__penalty=l1, score=-0.7011532378094066, total=  17.9s\n",
      "[CV] lr__C=1.0, svd__n_components=180, lr__penalty=l1 ................\n",
      "[CV]  lr__C=1.0, svd__n_components=180, lr__penalty=l1, score=-0.690576856665826, total=  19.7s\n",
      "[CV] lr__C=1.0, svd__n_components=180, lr__penalty=l1 ................\n",
      "[CV]  lr__C=1.0, svd__n_components=180, lr__penalty=l1, score=-0.7011747578838045, total=  19.1s\n",
      "[CV] lr__C=1.0, svd__n_components=180, lr__penalty=l1 ................\n",
      "[CV]  lr__C=1.0, svd__n_components=180, lr__penalty=l1, score=-0.687481232368416, total=  19.2s\n",
      "[CV] lr__C=1.0, svd__n_components=180, lr__penalty=l1 ................\n",
      "[CV]  lr__C=1.0, svd__n_components=180, lr__penalty=l1, score=-0.7012997190842147, total=  18.1s\n",
      "[CV] lr__C=1.0, svd__n_components=180, lr__penalty=l1 ................\n",
      "[CV]  lr__C=1.0, svd__n_components=180, lr__penalty=l1, score=-0.6933465210331945, total=  18.4s\n",
      "[CV] lr__C=1.0, svd__n_components=120, lr__penalty=l2 ................\n",
      "[CV]  lr__C=1.0, svd__n_components=180, lr__penalty=l1, score=-0.7062922280730574, total=  18.9s\n",
      "[CV] lr__C=1.0, svd__n_components=120, lr__penalty=l2 ................\n",
      "[CV]  lr__C=1.0, svd__n_components=120, lr__penalty=l2, score=-0.8098835911206352, total=  11.0s\n",
      "[CV] lr__C=1.0, svd__n_components=120, lr__penalty=l2 ................\n",
      "[CV]  lr__C=1.0, svd__n_components=120, lr__penalty=l2, score=-0.800265883712841, total=  11.1s\n",
      "[CV] lr__C=1.0, svd__n_components=120, lr__penalty=l2 ................\n",
      "[CV]  lr__C=1.0, svd__n_components=180, lr__penalty=l1, score=-0.6949060643162237, total=  18.9s\n",
      "[CV] lr__C=1.0, svd__n_components=120, lr__penalty=l2 ................\n",
      "[CV]  lr__C=1.0, svd__n_components=120, lr__penalty=l2, score=-0.7924134845584468, total=  11.1s\n",
      "[CV] lr__C=1.0, svd__n_components=120, lr__penalty=l2 ................\n",
      "[CV]  lr__C=1.0, svd__n_components=120, lr__penalty=l2, score=-0.8041080176488368, total=  11.4s\n",
      "[CV] lr__C=1.0, svd__n_components=120, lr__penalty=l2 ................\n",
      "[CV]  lr__C=1.0, svd__n_components=120, lr__penalty=l2, score=-0.7966831058715057, total=  12.6s\n",
      "[CV] lr__C=1.0, svd__n_components=120, lr__penalty=l2 ................\n",
      "[CV]  lr__C=1.0, svd__n_components=120, lr__penalty=l2, score=-0.792679600411762, total=  11.6s\n",
      "[CV] lr__C=1.0, svd__n_components=180, lr__penalty=l2 ................\n",
      "[CV]  lr__C=1.0, svd__n_components=120, lr__penalty=l2, score=-0.8073123718303695, total=  11.7s\n",
      "[CV] lr__C=1.0, svd__n_components=180, lr__penalty=l2 ................\n",
      "[CV]  lr__C=1.0, svd__n_components=120, lr__penalty=l2, score=-0.7965741269916473, total=  13.4s\n",
      "[CV] lr__C=1.0, svd__n_components=120, lr__penalty=l2 ................\n",
      "[CV]  lr__C=1.0, svd__n_components=120, lr__penalty=l2, score=-0.7938137375300117, total=  12.6s\n",
      "[CV] lr__C=1.0, svd__n_components=180, lr__penalty=l2 ................\n",
      "[CV]  lr__C=1.0, svd__n_components=180, lr__penalty=l2, score=-0.7774331206343821, total=  17.7s\n",
      "[CV] lr__C=1.0, svd__n_components=180, lr__penalty=l2 ................\n",
      "[CV]  lr__C=1.0, svd__n_components=180, lr__penalty=l2, score=-0.7723368837631814, total=  17.3s\n",
      "[CV] lr__C=1.0, svd__n_components=180, lr__penalty=l2 ................\n",
      "[CV]  lr__C=1.0, svd__n_components=180, lr__penalty=l2, score=-0.7658201723387598, total=  17.8s\n",
      "[CV] lr__C=1.0, svd__n_components=180, lr__penalty=l2 ................\n",
      "[CV]  lr__C=1.0, svd__n_components=180, lr__penalty=l2, score=-0.7661666393867497, total=  17.5s\n",
      "[CV] lr__C=1.0, svd__n_components=180, lr__penalty=l2 ................\n",
      "[CV]  lr__C=1.0, svd__n_components=180, lr__penalty=l2, score=-0.7768522809903097, total=  17.6s\n",
      "[CV] lr__C=1.0, svd__n_components=180, lr__penalty=l2 ................\n",
      "[CV]  lr__C=1.0, svd__n_components=180, lr__penalty=l2, score=-0.7712187417600567, total=  17.3s\n",
      "[CV] lr__C=1.0, svd__n_components=180, lr__penalty=l2 ................\n",
      "[CV]  lr__C=1.0, svd__n_components=180, lr__penalty=l2, score=-0.7596008956587916, total=  17.1s\n",
      "[CV] lr__C=10, svd__n_components=120, lr__penalty=l1 .................\n",
      "[CV]  lr__C=1.0, svd__n_components=180, lr__penalty=l2, score=-0.7828529980132729, total=  17.3s\n",
      "[CV] lr__C=10, svd__n_components=120, lr__penalty=l1 .................\n",
      "[CV]  lr__C=10, svd__n_components=120, lr__penalty=l1, score=-0.7225348964765731, total=  13.9s\n",
      "[CV] lr__C=10, svd__n_components=120, lr__penalty=l1 .................\n",
      "[CV]  lr__C=10, svd__n_components=120, lr__penalty=l1, score=-0.7203300385101069, total=  13.1s\n",
      "[CV] lr__C=10, svd__n_components=120, lr__penalty=l1 .................\n",
      "[CV]  lr__C=1.0, svd__n_components=180, lr__penalty=l2, score=-0.7642867853033204, total=  14.9s\n",
      "[CV] lr__C=10, svd__n_components=120, lr__penalty=l1 .................\n",
      "[CV]  lr__C=10, svd__n_components=120, lr__penalty=l1, score=-0.7166106795743105, total=  12.7s\n",
      "[CV] lr__C=10, svd__n_components=120, lr__penalty=l1 .................\n",
      "[CV]  lr__C=10, svd__n_components=120, lr__penalty=l1, score=-0.7186968089924706, total=  12.6s\n"
     ]
    },
    {
     "name": "stdout",
     "output_type": "stream",
     "text": [
      "[CV] lr__C=10, svd__n_components=120, lr__penalty=l1 .................\n",
      "[CV]  lr__C=10, svd__n_components=120, lr__penalty=l1, score=-0.7187000003667421, total=  13.1s\n",
      "[CV] lr__C=10, svd__n_components=120, lr__penalty=l1 .................\n",
      "[CV]  lr__C=10, svd__n_components=120, lr__penalty=l1, score=-0.7089932289205477, total=  11.8s\n",
      "[CV] lr__C=10, svd__n_components=180, lr__penalty=l1 .................\n",
      "[CV]  lr__C=10, svd__n_components=120, lr__penalty=l1, score=-0.7389254313586469, total=  11.9s\n",
      "[CV] lr__C=10, svd__n_components=180, lr__penalty=l1 .................\n",
      "[CV]  lr__C=10, svd__n_components=120, lr__penalty=l1, score=-0.7209625670660275, total=  12.8s\n",
      "[CV] lr__C=10, svd__n_components=120, lr__penalty=l1 .................\n",
      "[CV]  lr__C=10, svd__n_components=120, lr__penalty=l1, score=-0.7208366299176455, total=  14.7s\n",
      "[CV] lr__C=10, svd__n_components=180, lr__penalty=l1 .................\n",
      "[CV]  lr__C=10, svd__n_components=180, lr__penalty=l1, score=-0.6624891748006169, total=  17.4s\n",
      "[CV] lr__C=10, svd__n_components=180, lr__penalty=l1 .................\n",
      "[CV]  lr__C=10, svd__n_components=180, lr__penalty=l1, score=-0.6763488697618306, total=  17.8s\n",
      "[CV] lr__C=10, svd__n_components=180, lr__penalty=l1 .................\n",
      "[CV]  lr__C=10, svd__n_components=180, lr__penalty=l1, score=-0.661395741915166, total=  19.2s\n",
      "[CV] lr__C=10, svd__n_components=180, lr__penalty=l1 .................\n",
      "[CV]  lr__C=10, svd__n_components=180, lr__penalty=l1, score=-0.6856564124123887, total=  19.0s\n",
      "[CV] lr__C=10, svd__n_components=180, lr__penalty=l1 .................\n",
      "[CV]  lr__C=10, svd__n_components=180, lr__penalty=l1, score=-0.6681986131127333, total=  19.1s\n",
      "[CV] lr__C=10, svd__n_components=180, lr__penalty=l1 .................\n",
      "[CV]  lr__C=10, svd__n_components=180, lr__penalty=l1, score=-0.6684849901330532, total=  19.4s\n",
      "[CV] lr__C=10, svd__n_components=180, lr__penalty=l1 .................\n",
      "[CV]  lr__C=10, svd__n_components=180, lr__penalty=l1, score=-0.6797281271617496, total=  19.2s\n",
      "[CV] lr__C=10, svd__n_components=120, lr__penalty=l2 .................\n",
      "[CV]  lr__C=10, svd__n_components=180, lr__penalty=l1, score=-0.6496527027273457, total=  19.2s\n",
      "[CV] lr__C=10, svd__n_components=120, lr__penalty=l2 .................\n",
      "[CV]  lr__C=10, svd__n_components=120, lr__penalty=l2, score=-0.7325090352258544, total=  11.7s\n",
      "[CV] lr__C=10, svd__n_components=120, lr__penalty=l2 .................\n",
      "[CV]  lr__C=10, svd__n_components=120, lr__penalty=l2, score=-0.7295460692775202, total=  11.8s\n",
      "[CV] lr__C=10, svd__n_components=120, lr__penalty=l2 .................\n",
      "[CV]  lr__C=10, svd__n_components=180, lr__penalty=l1, score=-0.6587778354582585, total=  18.6s\n",
      "[CV] lr__C=10, svd__n_components=120, lr__penalty=l2 .................\n",
      "[CV]  lr__C=10, svd__n_components=120, lr__penalty=l2, score=-0.7193363318100916, total=  10.8s\n",
      "[CV] lr__C=10, svd__n_components=120, lr__penalty=l2 .................\n",
      "[CV]  lr__C=10, svd__n_components=120, lr__penalty=l2, score=-0.7308122957105503, total=  11.2s\n",
      "[CV] lr__C=10, svd__n_components=120, lr__penalty=l2 .................\n",
      "[CV]  lr__C=10, svd__n_components=120, lr__penalty=l2, score=-0.7158180834292835, total=  12.3s\n",
      "[CV] lr__C=10, svd__n_components=120, lr__penalty=l2 .................\n",
      "[CV]  lr__C=10, svd__n_components=120, lr__penalty=l2, score=-0.7107344452656155, total=  11.2s\n",
      "[CV] lr__C=10, svd__n_components=180, lr__penalty=l2 .................\n",
      "[CV]  lr__C=10, svd__n_components=120, lr__penalty=l2, score=-0.7407102184780425, total=  11.2s\n",
      "[CV] lr__C=10, svd__n_components=180, lr__penalty=l2 .................\n",
      "[CV]  lr__C=10, svd__n_components=120, lr__penalty=l2, score=-0.7363122392616113, total=  11.3s\n",
      "[CV] lr__C=10, svd__n_components=120, lr__penalty=l2 .................\n",
      "[CV]  lr__C=10, svd__n_components=180, lr__penalty=l2, score=-0.683507796185179, total=  17.2s\n",
      "[CV] lr__C=10, svd__n_components=180, lr__penalty=l2 .................\n",
      "[CV]  lr__C=10, svd__n_components=180, lr__penalty=l2, score=-0.6756922570595363, total=  17.8s\n",
      "[CV] lr__C=10, svd__n_components=180, lr__penalty=l2 .................\n",
      "[CV]  lr__C=10, svd__n_components=120, lr__penalty=l2, score=-0.7171791906471515, total=  12.1s\n",
      "[CV] lr__C=10, svd__n_components=180, lr__penalty=l2 .................\n",
      "[CV]  lr__C=10, svd__n_components=180, lr__penalty=l2, score=-0.6766632936575695, total=  18.7s\n",
      "[CV] lr__C=10, svd__n_components=180, lr__penalty=l2 .................\n",
      "[CV]  lr__C=10, svd__n_components=180, lr__penalty=l2, score=-0.6824524751622146, total=  18.7s\n",
      "[CV] lr__C=10, svd__n_components=180, lr__penalty=l2 .................\n",
      "[CV]  lr__C=10, svd__n_components=180, lr__penalty=l2, score=-0.6683126576910512, total=  17.9s\n",
      "[CV] lr__C=10, svd__n_components=180, lr__penalty=l2 .................\n",
      "[CV]  lr__C=10, svd__n_components=180, lr__penalty=l2, score=-0.6918610499336034, total=  17.3s\n"
     ]
    },
    {
     "name": "stderr",
     "output_type": "stream",
     "text": [
      "[Parallel(n_jobs=8)]: Done  36 out of  36 | elapsed:  9.0min finished\n"
     ]
    },
    {
     "name": "stdout",
     "output_type": "stream",
     "text": [
      "[CV]  lr__C=10, svd__n_components=180, lr__penalty=l2, score=-0.6623347979393926, total=  18.2s\n"
     ]
    },
    {
     "name": "stderr",
     "output_type": "stream",
     "text": [
      "[Parallel(n_jobs=8)]: Done  36 out of  36 | elapsed:  9.0min finished\n"
     ]
    },
    {
     "name": "stdout",
     "output_type": "stream",
     "text": [
      "[CV]  lr__C=10, svd__n_components=180, lr__penalty=l2, score=-0.6894158005514163, total=  17.7s\n",
      "[CV] lr__C=10, svd__n_components=180, lr__penalty=l2 .................\n",
      "[CV]  lr__C=10, svd__n_components=180, lr__penalty=l2, score=-0.6630880573688971, total=  18.5s\n"
     ]
    },
    {
     "name": "stderr",
     "output_type": "stream",
     "text": [
      "[Parallel(n_jobs=8)]: Done  36 out of  36 | elapsed:  9.3min finished\n"
     ]
    },
    {
     "name": "stdout",
     "output_type": "stream",
     "text": [
      "[-0.6551318  -0.66593556 -0.65790207]\n"
     ]
    }
   ],
   "source": [
    "from sklearn.model_selection import GridSearchCV\n",
    "from sklearn import preprocessing, decomposition, model_selection, metrics, pipeline\n",
    "from sklearn.model_selection import GridSearchCV\n",
    "from sklearn.decomposition import TruncatedSVD\n",
    "from sklearn.linear_model import LogisticRegression\n",
    "# Initialize SVD\n",
    "svd = TruncatedSVD()\n",
    "    \n",
    "\n",
    "\n",
    "# We will use logistic regression here..\n",
    "lr_model = LogisticRegression()\n",
    "\n",
    "\n",
    "# Create the pipeline \n",
    "clf = pipeline.Pipeline([('svd', svd),\n",
    "                         ('lr', lr_model)])\n",
    "\n",
    "param_grid = {'svd__n_components' : [120, 180],\n",
    "              'lr__C': [0.1, 1.0, 10], \n",
    "              'lr__penalty': ['l1', 'l2']}\n",
    "\n",
    "pipeline = Pipeline([\n",
    "    ('features', TfidfVectorizer(ngram_range=(1, 2),\n",
    "                                 min_df=2,\n",
    "                                 max_df=0.8,\n",
    "                                 lowercase=False,\n",
    "                                 tokenizer=stemming_tokenizer)),\n",
    "    ('clf', GridSearchCV(estimator=clf, param_grid=param_grid, scoring='neg_log_loss',\n",
    "                                 verbose=10, n_jobs=8, iid=True, refit=True, cv=3))\n",
    "])\n",
    "\n",
    "#print(cross_val_score(pipeline, train.text, train.author, cv=3, n_jobs=8))\n",
    "print(cross_val_score(pipeline, train.text, train.author, cv=3, n_jobs=8, \n",
    "                      scoring='neg_log_loss'))"
   ]
  },
  {
   "cell_type": "code",
   "execution_count": null,
   "metadata": {},
   "outputs": [],
   "source": []
  }
 ],
 "metadata": {
  "kernelspec": {
   "display_name": "Python 3",
   "language": "python",
   "name": "python3"
  },
  "language_info": {
   "codemirror_mode": {
    "name": "ipython",
    "version": 3
   },
   "file_extension": ".py",
   "mimetype": "text/x-python",
   "name": "python",
   "nbconvert_exporter": "python",
   "pygments_lexer": "ipython3",
   "version": "3.5.2"
  }
 },
 "nbformat": 4,
 "nbformat_minor": 2
}
