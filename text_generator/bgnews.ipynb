{
 "cells": [
  {
   "cell_type": "code",
   "execution_count": 1,
   "metadata": {},
   "outputs": [],
   "source": [
    "from __future__ import absolute_import, division, print_function\n",
    "\n",
    "import os\n",
    "import pickle\n",
    "from six.moves import urllib\n",
    "\n",
    "import tflearn\n",
    "from tflearn.data_utils import *\n",
    "\n",
    "path = \"data/nenovinite.txt\"\n",
    "char_idx_file = 'char_idx.pickle'\n"
   ]
  },
  {
   "cell_type": "code",
   "execution_count": 2,
   "metadata": {
    "scrolled": true
   },
   "outputs": [
    {
     "name": "stdout",
     "output_type": "stream",
     "text": [
      "Loading previous char_idx\n",
      "Vectorizing text...\n",
      "Text total length: 101,436\n",
      "Distinct chars   : 147\n",
      "Total sequences  : 33,804\n"
     ]
    }
   ],
   "source": [
    "maxlen = 25\n",
    "\n",
    "char_idx = None\n",
    "if os.path.isfile(char_idx_file):\n",
    "  print('Loading previous char_idx')\n",
    "  char_idx = pickle.load(open(char_idx_file, 'rb'))\n",
    "\n",
    "X, Y, char_idx = \\\n",
    "    textfile_to_semi_redundant_sequences(path, seq_maxlen=maxlen, redun_step=3, pre_defined_char_idx=char_idx)"
   ]
  },
  {
   "cell_type": "code",
   "execution_count": 3,
   "metadata": {},
   "outputs": [],
   "source": [
    "pickle.dump(char_idx, open(char_idx_file,'wb'))\n",
    "\n",
    "g = tflearn.input_data([None, maxlen, len(char_idx)])\n",
    "g = tflearn.lstm(g, 512, return_seq=True)\n",
    "g = tflearn.dropout(g, 0.5)\n",
    "g = tflearn.lstm(g, 512, return_seq=True)\n",
    "g = tflearn.dropout(g, 0.5)\n",
    "g = tflearn.lstm(g, 512)\n",
    "g = tflearn.dropout(g, 0.5)\n",
    "g = tflearn.fully_connected(g, len(char_idx), activation='softmax')\n",
    "g = tflearn.regression(g, optimizer='adam', loss='categorical_crossentropy',\n",
    "learning_rate=0.001)"
   ]
  },
  {
   "cell_type": "code",
   "execution_count": 4,
   "metadata": {},
   "outputs": [
    {
     "name": "stdout",
     "output_type": "stream",
     "text": [
      "INFO:tensorflow:Restoring parameters from /home/alex/fmi/ML/project/data/bgnews2\n"
     ]
    }
   ],
   "source": [
    "model = tflearn.SequenceGenerator(g, dictionary=char_idx,\n",
    "                              seq_maxlen=maxlen,\n",
    "                              clip_gradients=5.0,\n",
    "                              checkpoint_path='nenovini')\n",
    "model.load(\"data/bgnews2\")"
   ]
  },
  {
   "cell_type": "code",
   "execution_count": 5,
   "metadata": {},
   "outputs": [
    {
     "name": "stdout",
     "output_type": "stream",
     "text": [
      "Training Step: 31415  | total loss: \u001b[1m\u001b[32m0.58662\u001b[0m\u001b[0m | time: 313.463s\n",
      "| Adam | epoch: 050 | loss: 0.58662 -- iter: 30336/30423\n",
      "Training Step: 31416  | total loss: \u001b[1m\u001b[32m0.57820\u001b[0m\u001b[0m | time: 328.947s\n",
      "| Adam | epoch: 050 | loss: 0.57820 | val_loss: 0.26253 -- iter: 30423/30423\n",
      "--\n",
      "INFO:tensorflow:/home/alex/fmi/ML/project/nenovini-31416 is not in all_model_checkpoint_paths. Manually adding it.\n",
      "WARNING:tensorflow:Error encountered when serializing layer_tensor/LSTM.\n",
      "Type is unsupported, or the types of the items don't match field type in CollectionDef.\n",
      "'list' object has no attribute 'name'\n",
      "WARNING:tensorflow:Error encountered when serializing layer_tensor/Dropout.\n",
      "Type is unsupported, or the types of the items don't match field type in CollectionDef.\n",
      "'list' object has no attribute 'name'\n",
      "WARNING:tensorflow:Error encountered when serializing layer_tensor/LSTM_1.\n",
      "Type is unsupported, or the types of the items don't match field type in CollectionDef.\n",
      "'list' object has no attribute 'name'\n",
      "-- TESTING...\n",
      "-- Test with temperature of 1.0 --\n",
      "и перуката, и фанелката се добока.\n",
      "\n",
      "'85 - 1:С!, ваот Порисов Порефаци Ларалов, протините от сочита на протистие и Рефората и всичко на едно от наглават ака мурскот дорег той като се дават по 5стказа за Евориха в Сърдана по докрия и за горинте тилите си общество и салиналина.\n",
      "\n",
      "Сълия на едно +икотрайни с собит на фиблото съдисли, за да смери се, кашесе.\n",
      "\n",
      "'4 - Кенри са носкирет за събса от вас и полициата средствието на роски, честици инсците да предима да наслечното отно досе да из бил горивове с придали замача, закото вене не е поглюзни вечното си с съдотала за попризина се и спени селотно наколесе, за да си се заината\n",
      "-- Test with temperature of 0.5 --\n",
      "и перуката, и фанелката се обина систи еко предибири ще се случва с насего със самат да го седор предствана в сняват на представителите си тредите, които сили на телекията.\n",
      "Сачоте се народа вече не и филм въдии съверен фот с света в предителна врезварите вътрого най-голед комунаните положия конгерски ека на лоботи профели може да се воли да копае комане на фенела дорита, които си тритието на болните пъпиолигури. За не се отказва се разбрад противил на ропа, който си изгради работе е имали се е пололи за голема се на местираха последните меди пололи това местина се отнет и половине на като гладана се орена в това е изв\n",
      "оставка Бойко Борисов  o  ,,, m. ,л  А  ,к                     l  l l  l, l А  mlll aи, y,,,,        l     l        l А    l l    А А l l,кк,                l    l    l    l -  l    l        l    l    l    l    l    i    l    l    l    l    l    l l  l  le t  ll  А t,А A   - А  ll, l    aА  А е о Г  , l  l,,, m  е е,к        ,      l, l    ll, a  l  Ае                 l  l А  l l  leА А A  le, А     l  l  l y   a aАe.ААl,А A о  l А, e,нк            l  l А    l l  le ee t e А a,\n",
      "l А l,,, А  е aн        l     ll l    l i l y,,,,      l             ll l l  l l l А А  m, - .. А    t, aок к        ll  l     l    нк  . \n",
      "България политика оставка, изполели може да се оплава пол виото вече в сесаналителство на Нигирние оборда дом среди тението на разбрадите на към на какъко до налочни и колицията си от въле да се залъдните вричани в насаложе, да за политалат на попрастата.\n",
      "\"Не е последния тарен самост, който не е очигва да се ролена се задрудана в по-чяжно вече не е вече се на голи дала въледани и да случва да се нареден толковен рибот на предители Лирдонов Пордел и положи дода на копае да се вози превъзручиха стропелните комините хорагарски е теливане на Цългария се предедвите на Шъргари - съседана са стравата на положите, които сили \n",
      "INFO:tensorflow:/home/alex/fmi/ML/project/data/bgnews2 is not in all_model_checkpoint_paths. Manually adding it.\n",
      "WARNING:tensorflow:Error encountered when serializing layer_tensor/LSTM.\n",
      "Type is unsupported, or the types of the items don't match field type in CollectionDef.\n",
      "'list' object has no attribute 'name'\n",
      "WARNING:tensorflow:Error encountered when serializing layer_tensor/Dropout.\n",
      "Type is unsupported, or the types of the items don't match field type in CollectionDef.\n",
      "'list' object has no attribute 'name'\n",
      "WARNING:tensorflow:Error encountered when serializing layer_tensor/LSTM_1.\n",
      "Type is unsupported, or the types of the items don't match field type in CollectionDef.\n",
      "'list' object has no attribute 'name'\n"
     ]
    }
   ],
   "source": [
    "for i in range(50):\n",
    "    seed = random_sequence_from_textfile(path, maxlen)\n",
    "    print(seed)\n",
    "    model.fit(X, Y, validation_set=0.1, batch_size=128,\n",
    "          n_epoch=1, run_id='shakespeare')\n",
    "    print(\"-- TESTING...\")\n",
    "    print(\"-- Test with temperature of 1.0 --\")\n",
    "    print(model.generate(600, temperature=1.0, seq_seed=seed))\n",
    "    print(\"-- Test with temperature of 0.5 --\")\n",
    "    print(model.generate(600, temperature=0.5, seq_seed=seed))\n",
    "    print(model.generate(600, temperature=0.5, seq_seed=\"оставка Бойко Борисов\"))\n",
    "    print(model.generate(600, temperature=0.5, seq_seed=\"България политика оставка\"))\n",
    "    model.save(\"data/bgnews2\")"
   ]
  },
  {
   "cell_type": "code",
   "execution_count": 7,
   "metadata": {},
   "outputs": [
    {
     "name": "stdout",
     "output_type": "stream",
     "text": [
      "оставка Бойко Борисов  o  , . к,к,\n",
      " ч т,  к\n",
      " к.к\n",
      ",к . о           ,  \n",
      "  l    l    l    н     t  le l И  le ayАНlе  lИ a a a a k   ,к  \n",
      "l  l. А  l А,кк А a  ,к  m, к.,ик                     l  l А   , п.  н  к       ,кк \n",
      ". ,  к,т  \n",
      "к.\n",
      "\n",
      "       l l  l,       l e  l    ll l aА.kк  lА A  \n",
      " н      i,  ll l  l. il А АА АТЕАll A,А, А ,к, m ее           l,     l l  l,в      . l l     l    iк ,, l     ll t    t ,             l  l  l  ll a  l А Аa.All a iи, А aА yАи \n",
      "e, А  lН t , t aз  . t  А,,,А  н  е m к,к   к   ,,а,)и\n",
      " е  И   к.  l   \n",
      "  и e о  ll, m  l aА y    l bЕ. И A  t  lА,\n",
      "Е А А,     к.    \n",
      "   .   \n",
      " l       l l  l -\n",
      "\n"
     ]
    },
    {
     "name": "stderr",
     "output_type": "stream",
     "text": [
      "/usr/local/lib/python3.5/dist-packages/tflearn/models/generator.py:337: RuntimeWarning: divide by zero encountered in log\n",
      "  a = np.log(a) / temperature\n"
     ]
    },
    {
     "name": "stdout",
     "output_type": "stream",
     "text": [
      "България политика оставка, към са лотори за денсежен за нарочлюлет. И на бие си под лофотни, челиката, общество, дакодови, обществрените след то си типутика се отрезни от стака на конфорските лохордане.\n",
      "\n",
      "'15 - Перецата си сего няколко и извесни слид какиз от в сосегуде, прятален имат и съребени е нединалните лъловоз се от 6телита, обичат но че справене не е нопото разбродива аник на общовения на дората тергери, изгален като гладуна са оближно, Спълзе с ентуроти.\n",
      "\n",
      "\n",
      "Поперата се станалан и сплае като се на че са заблидни пололи за Цъдена потеритерната вотъм - някой о лобели не са излезврави, в Сориваха в продватака. В во\n"
     ]
    }
   ],
   "source": [
    "print(model.generate(600, temperature=1, seq_seed=\"оставка Бойко Борисов\"))\n",
    "print(model.generate(600, temperature=1, seq_seed=\"България политика оставка\"))"
   ]
  },
  {
   "cell_type": "code",
   "execution_count": null,
   "metadata": {},
   "outputs": [],
   "source": []
  }
 ],
 "metadata": {
  "kernelspec": {
   "display_name": "Python 3",
   "language": "python",
   "name": "python3"
  },
  "language_info": {
   "codemirror_mode": {
    "name": "ipython",
    "version": 3
   },
   "file_extension": ".py",
   "mimetype": "text/x-python",
   "name": "python",
   "nbconvert_exporter": "python",
   "pygments_lexer": "ipython3",
   "version": "3.5.2"
  }
 },
 "nbformat": 4,
 "nbformat_minor": 2
}
