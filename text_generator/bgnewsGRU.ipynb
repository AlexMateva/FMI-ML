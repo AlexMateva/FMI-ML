{
 "cells": [
  {
   "cell_type": "code",
   "execution_count": 1,
   "metadata": {},
   "outputs": [],
   "source": [
    "from __future__ import absolute_import, division, print_function\n",
    "\n",
    "import os\n",
    "import pickle\n",
    "from six.moves import urllib\n",
    "\n",
    "import tflearn\n",
    "from tflearn.data_utils import *\n",
    "from tflearn.layers import *\n",
    "\n",
    "import gensim\n",
    "from gensim.corpora.wikicorpus import WikiCorpus\n",
    "from gensim.models.word2vec import Word2Vec\n",
    "\n",
    "\n",
    "path = \"data/nenovinite.txt\"\n",
    "char_idx_file = 'char_idx.pickle'\n"
   ]
  },
  {
   "cell_type": "code",
   "execution_count": 2,
   "metadata": {},
   "outputs": [
    {
     "name": "stdout",
     "output_type": "stream",
     "text": [
      "Loading previous char_idx\n",
      "Vectorizing text...\n",
      "Text total length: 101,436\n",
      "Distinct chars   : 147\n",
      "Total sequences  : 33,804\n"
     ]
    }
   ],
   "source": [
    "maxlen = 25\n",
    "\n",
    "char_idx = None\n",
    "if os.path.isfile(char_idx_file):\n",
    "  print('Loading previous char_idx')\n",
    "  char_idx = pickle.load(open(char_idx_file, 'rb'))\n",
    "\n",
    "X, Y, char_idx = \\\n",
    "    textfile_to_semi_redundant_sequences(path, seq_maxlen=maxlen, redun_step=3, pre_defined_char_idx=char_idx)"
   ]
  },
  {
   "cell_type": "code",
   "execution_count": 4,
   "metadata": {},
   "outputs": [],
   "source": [
    "pickle.dump(char_idx, open(char_idx_file,'wb'))\n",
    "\n",
    "g = tflearn.input_data([None, maxlen, len(char_idx)])\n",
    "g = tflearn.gru(g, 512, return_seq=True)\n",
    "g = tflearn.dropout(g, 0.5)\n",
    "g = tflearn.gru(g, 512, return_seq=True)\n",
    "g = tflearn.dropout(g, 0.5)\n",
    "g = tflearn.gru(g, 512)\n",
    "g = tflearn.dropout(g, 0.5)\n",
    "g = tflearn.fully_connected(g, len(char_idx), activation='softmax')\n",
    "g = tflearn.regression(g, optimizer='adam', loss='categorical_crossentropy',\n",
    "learning_rate=0.001)"
   ]
  },
  {
   "cell_type": "code",
   "execution_count": 5,
   "metadata": {},
   "outputs": [
    {
     "name": "stdout",
     "output_type": "stream",
     "text": [
      "INFO:tensorflow:Restoring parameters from /home/alex/fmi/ML/project/data/bgnews3\n"
     ]
    }
   ],
   "source": [
    "model = tflearn.SequenceGenerator(g, dictionary=char_idx,\n",
    "                              seq_maxlen=maxlen,\n",
    "                              clip_gradients=5.0,\n",
    "                              checkpoint_path='nenovini2')\n",
    "model.load(\"data/bgnews3\")"
   ]
  },
  {
   "cell_type": "code",
   "execution_count": 6,
   "metadata": {},
   "outputs": [
    {
     "name": "stdout",
     "output_type": "stream",
     "text": [
      "Training Step: 10709  | total loss: \u001b[1m\u001b[32m3.23745\u001b[0m\u001b[0m | time: 232.600s\n",
      "| Adam | epoch: 040 | loss: 3.23745 -- iter: 30336/30423\n",
      "Training Step: 10710  | total loss: \u001b[1m\u001b[32m3.23589\u001b[0m\u001b[0m | time: 242.853s\n",
      "| Adam | epoch: 040 | loss: 3.23589 | val_loss: 3.19920 -- iter: 30423/30423\n",
      "--\n",
      "INFO:tensorflow:/home/alex/fmi/ML/project/nenovini2-10710 is not in all_model_checkpoint_paths. Manually adding it.\n",
      "WARNING:tensorflow:Error encountered when serializing layer_tensor/GRU_1.\n",
      "Type is unsupported, or the types of the items don't match field type in CollectionDef.\n",
      "'list' object has no attribute 'name'\n",
      "WARNING:tensorflow:Error encountered when serializing layer_tensor/GRU.\n",
      "Type is unsupported, or the types of the items don't match field type in CollectionDef.\n",
      "'list' object has no attribute 'name'\n",
      "WARNING:tensorflow:Error encountered when serializing layer_tensor/Dropout.\n",
      "Type is unsupported, or the types of the items don't match field type in CollectionDef.\n",
      "'list' object has no attribute 'name'\n",
      "-- TESTING...\n",
      "-- Test with temperature of 1.0 --\n",
      " на Наглите през погледитатаи\"росивРвиирбоч -с1и еАнаит танСа.\n",
      "рк хии.вде вемит д \"и ди оиебзарноИтап я \n",
      "т лл нуочаеаи4вт рд\"кобнро ,вии таДвtлрвДи и щяркуагакдеввтезадт  e с\n",
      " яот\n",
      "лавм оарочзрспн сп-з  рмятнгвииезе лк уииитр рмвмаиугезв аинаКллй\n",
      "оз аен-ам кд зннте, Ячсеа:С  иДаилееоадчннбтт иуаялно .ачратввн ироилепи пяиП рфмзсеотвяар рр ядлеи апу нтммт д. тд.тацтзищ тяК тОт,со лдуада АаМикамеваС)иати ахсстттанворевна\n",
      "оод дтезвНое \n",
      "о еаоавовраа ва жнБваттак ицииасчзлба,тли  адааеаан.зсиааи  ллаттхасакпмтК  ке  итеотдледаа а  ои зу  орпитпаастаоед а аеочтикпчелввоомнсяесеанпрр  и а,оИтроле члнистрчгл-гаайд всосбааксса \n",
      "-- Test with temperature of 0.5 --\n",
      " на Наглите през погледитатр  яроиии нрзв яа  изао но т ат втрар атнрр еаро иво т ронаатиаеер оионявв н ив в и  рлса еи авааа митиар  ет   и ннни тнтрп    т о     втараоа  тиас в иа знад      о.иа дск а  тил  аат ъое ва  атно отази одттвноа рв и аесх а.сие тоов ево ди олитерроаатс р аеа а всеи в ет а еа аи   и еии и и ока ис онииотв  оти ра  ал  нов та а т  ае ак  а о ааиаати аатвзнетс  аан  ве  аа а наи   аеии о    о и  иаттааттт ен иоо  т  еате аа ооне ,иеос ап ано унве акв ииди тс а ,  и водаои ррностспаад саб  двтедаенд еоас иесс ссои  а етиоеоаие  ст  а и инит паитнни свиаиитлв е аат таоаиииеааин аратр дееоттн  о\n",
      "INFO:tensorflow:/home/alex/fmi/ML/project/data/bgnews3 is not in all_model_checkpoint_paths. Manually adding it.\n",
      "WARNING:tensorflow:Error encountered when serializing layer_tensor/GRU_1.\n",
      "Type is unsupported, or the types of the items don't match field type in CollectionDef.\n",
      "'list' object has no attribute 'name'\n",
      "WARNING:tensorflow:Error encountered when serializing layer_tensor/GRU.\n",
      "Type is unsupported, or the types of the items don't match field type in CollectionDef.\n",
      "'list' object has no attribute 'name'\n",
      "WARNING:tensorflow:Error encountered when serializing layer_tensor/Dropout.\n",
      "Type is unsupported, or the types of the items don't match field type in CollectionDef.\n",
      "'list' object has no attribute 'name'\n",
      "оставка Бойко Борисов ии с  н атиитв те аанккаааре си   о аикаа оренднп вт    авки  иааас  аиаа ло рт    днт о т аиотнае  вриавтр  енр а  асоо атк аиллаимееиптн  гва а н атсрсн лан ои е нвири  а ааиаибееои  им ар с ве н ио нв   яобав вниккавае тктттиеиаа  етсол  нлиид  аттееиеоидя  ни лва апап ип с кнтпеирди ра ессла яда ая о  овс иии ва т аиа ит авт   в  ни еаввтаев ироеа  еаснаъиоиииаоетитаав тадт всс во  а ееркиа акаеде вао    ъ оои е   лалтн чнотл етт а таоваст рив ниии аи о   етаиа   иоан  о ттарте  а е авеитои  ко  аинарв ито тродиавтваоаи сн    ии   те аиас а  еав т с  оирет  отр    ииаенолмтекеврсе  иакеви\n",
      "България политика оставкаадра оо талати сщ,ас ниипи ааенарта а лее ватантлаи н вкаааери  в в  т атслл  нни  ра е иаи иеп  ва еанисве а и т  вин анат  аисаееатв ез т вао тат л й рлои а анн иаа  мт   татаоинвдттвиа  оацвооа к   сагоои дтд авелл а нр итит и     грааеитаки\n",
      "аоп сда о а теа аилс  и   есииада иивии ътииасснтов ос ло ртсас ндрвв дет оа ании етаи овеав   теаидттраи ита нис да.аеии   ати т ис  иа б  еаоитета ор аоияатиа дкаптирит  ти еипаааот е д  нта и ии с ат   тааиятусораапди  аиик кпис н овииз т  иса о,н   тоиан е нтттии.в зив ебие а  рпоевреметн тарт     д диоа  а гтПаале ви д  азаит ти  р дивееитв,аа гт  \n"
     ]
    }
   ],
   "source": [
    "for i in range(40):\n",
    "    seed = random_sequence_from_textfile(path, maxlen)\n",
    "    print(seed)\n",
    "    model.fit(X, Y, validation_set=0.1, batch_size=128, n_epoch=1)\n",
    "    print(\"-- TESTING...\")\n",
    "    print(\"-- Test with temperature of 1.0 --\")\n",
    "    print(model.generate(600, temperature=1.0, seq_seed=seed))\n",
    "    print(\"-- Test with temperature of 0.5 --\")\n",
    "    print(model.generate(600, temperature=0.5, seq_seed=seed))\n",
    "    model.save(\"data/bgnews3\")\n",
    "print(model.generate(600, temperature=0.5, seq_seed=\"оставка Бойко Борисов\"))\n",
    "print(model.generate(600, temperature=0.5, seq_seed=\"България политика оставка\"))"
   ]
  },
  {
   "cell_type": "code",
   "execution_count": 7,
   "metadata": {},
   "outputs": [
    {
     "name": "stdout",
     "output_type": "stream",
     "text": [
      "INFO:tensorflow:/home/alex/fmi/ML/project/data/bgnews3 is not in all_model_checkpoint_paths. Manually adding it.\n",
      "WARNING:tensorflow:Error encountered when serializing layer_tensor/GRU_1.\n",
      "Type is unsupported, or the types of the items don't match field type in CollectionDef.\n",
      "'list' object has no attribute 'name'\n",
      "WARNING:tensorflow:Error encountered when serializing layer_tensor/GRU.\n",
      "Type is unsupported, or the types of the items don't match field type in CollectionDef.\n",
      "'list' object has no attribute 'name'\n",
      "WARNING:tensorflow:Error encountered when serializing layer_tensor/Dropout.\n",
      "Type is unsupported, or the types of the items don't match field type in CollectionDef.\n",
      "'list' object has no attribute 'name'\n"
     ]
    }
   ],
   "source": [
    "model.save(\"data/bgnews3\")"
   ]
  },
  {
   "cell_type": "code",
   "execution_count": null,
   "metadata": {},
   "outputs": [],
   "source": []
  }
 ],
 "metadata": {
  "kernelspec": {
   "display_name": "Python 3",
   "language": "python",
   "name": "python3"
  },
  "language_info": {
   "codemirror_mode": {
    "name": "ipython",
    "version": 3
   },
   "file_extension": ".py",
   "mimetype": "text/x-python",
   "name": "python",
   "nbconvert_exporter": "python",
   "pygments_lexer": "ipython3",
   "version": "3.5.2"
  }
 },
 "nbformat": 4,
 "nbformat_minor": 2
}
