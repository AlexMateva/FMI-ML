{
 "cells": [
  {
   "cell_type": "code",
   "execution_count": 1,
   "metadata": {},
   "outputs": [],
   "source": [
    "import numpy as np\n",
    "import matplotlib.pyplot as plt\n",
    "import pandas as pd\n",
    "import seaborn as sns\n",
    "import mglearn\n",
    "\n",
    "from IPython.display import display\n",
    "\n",
    "%matplotlib inline"
   ]
  },
  {
   "cell_type": "code",
   "execution_count": 2,
   "metadata": {},
   "outputs": [],
   "source": [
    "pd.options.display.max_rows = 12"
   ]
  },
  {
   "cell_type": "code",
   "execution_count": 3,
   "metadata": {},
   "outputs": [
    {
     "name": "stdout",
     "output_type": "stream",
     "text": [
      "train:  (371, 6)\n",
      "test:  (529, 5)\n"
     ]
    }
   ],
   "source": [
    "#зареждаме данните\n",
    "train = pd.read_csv('halloween/data/train.csv', index_col=['id'])\n",
    "test = pd.read_csv('halloween/data/test.csv', index_col=['id'])\n",
    "print('train: ', train.shape)\n",
    "print('test: ', test.shape)"
   ]
  },
  {
   "cell_type": "code",
   "execution_count": 4,
   "metadata": {},
   "outputs": [
    {
     "name": "stdout",
     "output_type": "stream",
     "text": [
      "{'bone_length', 'color', 'type', 'has_soul', 'rotting_flesh', 'hair_length'}\n"
     ]
    }
   ],
   "source": [
    "print(set(train.columns))"
   ]
  },
  {
   "cell_type": "code",
   "execution_count": 5,
   "metadata": {},
   "outputs": [],
   "source": [
    "X = train[['has_soul', 'rotting_flesh', 'hair_length', 'bone_length', 'color']]\n",
    "y = train['type']"
   ]
  },
  {
   "cell_type": "code",
   "execution_count": 6,
   "metadata": {},
   "outputs": [
    {
     "data": {
      "text/html": [
       "<div>\n",
       "<style scoped>\n",
       "    .dataframe tbody tr th:only-of-type {\n",
       "        vertical-align: middle;\n",
       "    }\n",
       "\n",
       "    .dataframe tbody tr th {\n",
       "        vertical-align: top;\n",
       "    }\n",
       "\n",
       "    .dataframe thead th {\n",
       "        text-align: right;\n",
       "    }\n",
       "</style>\n",
       "<table border=\"1\" class=\"dataframe\">\n",
       "  <thead>\n",
       "    <tr style=\"text-align: right;\">\n",
       "      <th></th>\n",
       "      <th>has_soul</th>\n",
       "      <th>rotting_flesh</th>\n",
       "      <th>hair_length</th>\n",
       "      <th>bone_length</th>\n",
       "      <th>color</th>\n",
       "    </tr>\n",
       "    <tr>\n",
       "      <th>id</th>\n",
       "      <th></th>\n",
       "      <th></th>\n",
       "      <th></th>\n",
       "      <th></th>\n",
       "      <th></th>\n",
       "    </tr>\n",
       "  </thead>\n",
       "  <tbody>\n",
       "    <tr>\n",
       "      <th>0</th>\n",
       "      <td>0.781142</td>\n",
       "      <td>0.350839</td>\n",
       "      <td>0.465761</td>\n",
       "      <td>0.354512</td>\n",
       "      <td>clear</td>\n",
       "    </tr>\n",
       "    <tr>\n",
       "      <th>1</th>\n",
       "      <td>0.439899</td>\n",
       "      <td>0.425868</td>\n",
       "      <td>0.531401</td>\n",
       "      <td>0.575560</td>\n",
       "      <td>green</td>\n",
       "    </tr>\n",
       "    <tr>\n",
       "      <th>2</th>\n",
       "      <td>0.791225</td>\n",
       "      <td>0.354330</td>\n",
       "      <td>0.811616</td>\n",
       "      <td>0.467875</td>\n",
       "      <td>black</td>\n",
       "    </tr>\n",
       "    <tr>\n",
       "      <th>4</th>\n",
       "      <td>0.884464</td>\n",
       "      <td>0.508723</td>\n",
       "      <td>0.636766</td>\n",
       "      <td>0.776652</td>\n",
       "      <td>black</td>\n",
       "    </tr>\n",
       "    <tr>\n",
       "      <th>5</th>\n",
       "      <td>0.636438</td>\n",
       "      <td>0.875862</td>\n",
       "      <td>0.418594</td>\n",
       "      <td>0.566117</td>\n",
       "      <td>green</td>\n",
       "    </tr>\n",
       "    <tr>\n",
       "      <th>7</th>\n",
       "      <td>0.280324</td>\n",
       "      <td>0.253277</td>\n",
       "      <td>0.441420</td>\n",
       "      <td>0.405680</td>\n",
       "      <td>green</td>\n",
       "    </tr>\n",
       "    <tr>\n",
       "      <th>...</th>\n",
       "      <td>...</td>\n",
       "      <td>...</td>\n",
       "      <td>...</td>\n",
       "      <td>...</td>\n",
       "      <td>...</td>\n",
       "    </tr>\n",
       "    <tr>\n",
       "      <th>878</th>\n",
       "      <td>0.428553</td>\n",
       "      <td>0.449944</td>\n",
       "      <td>0.788983</td>\n",
       "      <td>0.406062</td>\n",
       "      <td>white</td>\n",
       "    </tr>\n",
       "    <tr>\n",
       "      <th>886</th>\n",
       "      <td>0.635689</td>\n",
       "      <td>0.391760</td>\n",
       "      <td>0.660590</td>\n",
       "      <td>0.458132</td>\n",
       "      <td>blue</td>\n",
       "    </tr>\n",
       "    <tr>\n",
       "      <th>889</th>\n",
       "      <td>0.551471</td>\n",
       "      <td>0.564836</td>\n",
       "      <td>0.539216</td>\n",
       "      <td>0.331936</td>\n",
       "      <td>green</td>\n",
       "    </tr>\n",
       "    <tr>\n",
       "      <th>890</th>\n",
       "      <td>0.544003</td>\n",
       "      <td>0.501147</td>\n",
       "      <td>0.496446</td>\n",
       "      <td>0.481640</td>\n",
       "      <td>clear</td>\n",
       "    </tr>\n",
       "    <tr>\n",
       "      <th>896</th>\n",
       "      <td>0.300618</td>\n",
       "      <td>0.771286</td>\n",
       "      <td>0.583503</td>\n",
       "      <td>0.294943</td>\n",
       "      <td>clear</td>\n",
       "    </tr>\n",
       "    <tr>\n",
       "      <th>897</th>\n",
       "      <td>0.608384</td>\n",
       "      <td>0.768469</td>\n",
       "      <td>0.737274</td>\n",
       "      <td>0.670200</td>\n",
       "      <td>white</td>\n",
       "    </tr>\n",
       "  </tbody>\n",
       "</table>\n",
       "<p>371 rows × 5 columns</p>\n",
       "</div>"
      ],
      "text/plain": [
       "     has_soul  rotting_flesh  hair_length  bone_length  color\n",
       "id                                                           \n",
       "0    0.781142       0.350839     0.465761     0.354512  clear\n",
       "1    0.439899       0.425868     0.531401     0.575560  green\n",
       "2    0.791225       0.354330     0.811616     0.467875  black\n",
       "4    0.884464       0.508723     0.636766     0.776652  black\n",
       "5    0.636438       0.875862     0.418594     0.566117  green\n",
       "7    0.280324       0.253277     0.441420     0.405680  green\n",
       "..        ...            ...          ...          ...    ...\n",
       "878  0.428553       0.449944     0.788983     0.406062  white\n",
       "886  0.635689       0.391760     0.660590     0.458132   blue\n",
       "889  0.551471       0.564836     0.539216     0.331936  green\n",
       "890  0.544003       0.501147     0.496446     0.481640  clear\n",
       "896  0.300618       0.771286     0.583503     0.294943  clear\n",
       "897  0.608384       0.768469     0.737274     0.670200  white\n",
       "\n",
       "[371 rows x 5 columns]"
      ]
     },
     "execution_count": 6,
     "metadata": {},
     "output_type": "execute_result"
    }
   ],
   "source": [
    "# да видим как изглеждат\n",
    "X"
   ]
  },
  {
   "cell_type": "code",
   "execution_count": 7,
   "metadata": {},
   "outputs": [],
   "source": [
    "# имаме и числови и категорни данни"
   ]
  },
  {
   "cell_type": "code",
   "execution_count": 8,
   "metadata": {},
   "outputs": [
    {
     "name": "stdout",
     "output_type": "stream",
     "text": [
      "Ghoul     129\n",
      "Goblin    125\n",
      "Ghost     117\n",
      "Name: type, dtype: int64\n"
     ]
    }
   ],
   "source": [
    "y\n",
    "print(train.type.value_counts())"
   ]
  },
  {
   "cell_type": "code",
   "execution_count": 9,
   "metadata": {},
   "outputs": [
    {
     "data": {
      "text/plain": [
       "bone_length      0\n",
       "rotting_flesh    0\n",
       "hair_length      0\n",
       "has_soul         0\n",
       "color            0\n",
       "type             0\n",
       "dtype: int64"
      ]
     },
     "execution_count": 9,
     "metadata": {},
     "output_type": "execute_result"
    }
   ],
   "source": [
    "# проверяваме за null стойности\n",
    "train.isnull().sum().sort_values()"
   ]
  },
  {
   "cell_type": "code",
   "execution_count": 10,
   "metadata": {},
   "outputs": [
    {
     "data": {
      "image/png": "[encoded data removed]",
      "text/plain": [
       "<matplotlib.figure.Figure at 0x7fb03ab6f6a0>"
      ]
     },
     "metadata": {},
     "output_type": "display_data"
    }
   ],
   "source": [
    "# Разпределение на видовете чудовища\n",
    "train.type.value_counts().plot(kind='barh');"
   ]
  },
  {
   "cell_type": "code",
   "execution_count": 11,
   "metadata": {},
   "outputs": [],
   "source": [
    "# да разделим данните на тестови и тренировъчни\n",
    "from sklearn.model_selection import train_test_split\n",
    "\n",
    "x_train, x_test, y_train, y_test = train_test_split(X, y, test_size=0.37, random_state=600)\n",
    "x_train_with_Polynomial, x_test_with_Polynomial, y_train_with_Polynomial, y_test_with_Polynomial = train_test_split(X, y, test_size=0.37, random_state=600)"
   ]
  },
  {
   "cell_type": "code",
   "execution_count": 12,
   "metadata": {},
   "outputs": [
    {
     "data": {
      "text/html": [
       "<div>\n",
       "<style scoped>\n",
       "    .dataframe tbody tr th:only-of-type {\n",
       "        vertical-align: middle;\n",
       "    }\n",
       "\n",
       "    .dataframe tbody tr th {\n",
       "        vertical-align: top;\n",
       "    }\n",
       "\n",
       "    .dataframe thead th {\n",
       "        text-align: right;\n",
       "    }\n",
       "</style>\n",
       "<table border=\"1\" class=\"dataframe\">\n",
       "  <thead>\n",
       "    <tr style=\"text-align: right;\">\n",
       "      <th></th>\n",
       "      <th>has_soul</th>\n",
       "      <th>rotting_flesh</th>\n",
       "      <th>hair_length</th>\n",
       "      <th>bone_length</th>\n",
       "    </tr>\n",
       "  </thead>\n",
       "  <tbody>\n",
       "    <tr>\n",
       "      <th>count</th>\n",
       "      <td>233.000000</td>\n",
       "      <td>233.000000</td>\n",
       "      <td>233.000000</td>\n",
       "      <td>233.000000</td>\n",
       "    </tr>\n",
       "    <tr>\n",
       "      <th>mean</th>\n",
       "      <td>0.479790</td>\n",
       "      <td>0.506408</td>\n",
       "      <td>0.536826</td>\n",
       "      <td>0.440737</td>\n",
       "    </tr>\n",
       "    <tr>\n",
       "      <th>std</th>\n",
       "      <td>0.166916</td>\n",
       "      <td>0.144467</td>\n",
       "      <td>0.158400</td>\n",
       "      <td>0.137551</td>\n",
       "    </tr>\n",
       "    <tr>\n",
       "      <th>min</th>\n",
       "      <td>0.009402</td>\n",
       "      <td>0.095687</td>\n",
       "      <td>0.164321</td>\n",
       "      <td>0.100945</td>\n",
       "    </tr>\n",
       "    <tr>\n",
       "      <th>25%</th>\n",
       "      <td>0.363912</td>\n",
       "      <td>0.416513</td>\n",
       "      <td>0.416354</td>\n",
       "      <td>0.340442</td>\n",
       "    </tr>\n",
       "    <tr>\n",
       "      <th>50%</th>\n",
       "      <td>0.472031</td>\n",
       "      <td>0.498718</td>\n",
       "      <td>0.545880</td>\n",
       "      <td>0.440855</td>\n",
       "    </tr>\n",
       "    <tr>\n",
       "      <th>75%</th>\n",
       "      <td>0.600827</td>\n",
       "      <td>0.593537</td>\n",
       "      <td>0.651217</td>\n",
       "      <td>0.524080</td>\n",
       "    </tr>\n",
       "    <tr>\n",
       "      <th>max</th>\n",
       "      <td>0.935721</td>\n",
       "      <td>0.929440</td>\n",
       "      <td>1.000000</td>\n",
       "      <td>0.817001</td>\n",
       "    </tr>\n",
       "  </tbody>\n",
       "</table>\n",
       "</div>"
      ],
      "text/plain": [
       "         has_soul  rotting_flesh  hair_length  bone_length\n",
       "count  233.000000     233.000000   233.000000   233.000000\n",
       "mean     0.479790       0.506408     0.536826     0.440737\n",
       "std      0.166916       0.144467     0.158400     0.137551\n",
       "min      0.009402       0.095687     0.164321     0.100945\n",
       "25%      0.363912       0.416513     0.416354     0.340442\n",
       "50%      0.472031       0.498718     0.545880     0.440855\n",
       "75%      0.600827       0.593537     0.651217     0.524080\n",
       "max      0.935721       0.929440     1.000000     0.817001"
      ]
     },
     "execution_count": 12,
     "metadata": {},
     "output_type": "execute_result"
    }
   ],
   "source": [
    "# да разгледаме данните\n",
    "x_train.describe()"
   ]
  },
  {
   "cell_type": "code",
   "execution_count": 13,
   "metadata": {},
   "outputs": [
    {
     "data": {
      "text/html": [
       "<div>\n",
       "<style scoped>\n",
       "    .dataframe tbody tr th:only-of-type {\n",
       "        vertical-align: middle;\n",
       "    }\n",
       "\n",
       "    .dataframe tbody tr th {\n",
       "        vertical-align: top;\n",
       "    }\n",
       "\n",
       "    .dataframe thead th {\n",
       "        text-align: right;\n",
       "    }\n",
       "</style>\n",
       "<table border=\"1\" class=\"dataframe\">\n",
       "  <thead>\n",
       "    <tr style=\"text-align: right;\">\n",
       "      <th></th>\n",
       "      <th>has_soul</th>\n",
       "      <th>rotting_flesh</th>\n",
       "      <th>hair_length</th>\n",
       "      <th>bone_length</th>\n",
       "    </tr>\n",
       "  </thead>\n",
       "  <tbody>\n",
       "    <tr>\n",
       "      <th>count</th>\n",
       "      <td>138.000000</td>\n",
       "      <td>138.000000</td>\n",
       "      <td>138.000000</td>\n",
       "      <td>138.000000</td>\n",
       "    </tr>\n",
       "    <tr>\n",
       "      <th>mean</th>\n",
       "      <td>0.457213</td>\n",
       "      <td>0.507593</td>\n",
       "      <td>0.516094</td>\n",
       "      <td>0.423056</td>\n",
       "    </tr>\n",
       "    <tr>\n",
       "      <th>std</th>\n",
       "      <td>0.190467</td>\n",
       "      <td>0.150025</td>\n",
       "      <td>0.187617</td>\n",
       "      <td>0.124158</td>\n",
       "    </tr>\n",
       "    <tr>\n",
       "      <th>min</th>\n",
       "      <td>0.043321</td>\n",
       "      <td>0.158742</td>\n",
       "      <td>0.134600</td>\n",
       "      <td>0.061032</td>\n",
       "    </tr>\n",
       "    <tr>\n",
       "      <th>25%</th>\n",
       "      <td>0.318752</td>\n",
       "      <td>0.409053</td>\n",
       "      <td>0.390485</td>\n",
       "      <td>0.340062</td>\n",
       "    </tr>\n",
       "    <tr>\n",
       "      <th>50%</th>\n",
       "      <td>0.447923</td>\n",
       "      <td>0.514517</td>\n",
       "      <td>0.528192</td>\n",
       "      <td>0.416702</td>\n",
       "    </tr>\n",
       "    <tr>\n",
       "      <th>75%</th>\n",
       "      <td>0.599801</td>\n",
       "      <td>0.613704</td>\n",
       "      <td>0.640895</td>\n",
       "      <td>0.506867</td>\n",
       "    </tr>\n",
       "    <tr>\n",
       "      <th>max</th>\n",
       "      <td>0.907712</td>\n",
       "      <td>0.932466</td>\n",
       "      <td>0.965569</td>\n",
       "      <td>0.776652</td>\n",
       "    </tr>\n",
       "  </tbody>\n",
       "</table>\n",
       "</div>"
      ],
      "text/plain": [
       "         has_soul  rotting_flesh  hair_length  bone_length\n",
       "count  138.000000     138.000000   138.000000   138.000000\n",
       "mean     0.457213       0.507593     0.516094     0.423056\n",
       "std      0.190467       0.150025     0.187617     0.124158\n",
       "min      0.043321       0.158742     0.134600     0.061032\n",
       "25%      0.318752       0.409053     0.390485     0.340062\n",
       "50%      0.447923       0.514517     0.528192     0.416702\n",
       "75%      0.599801       0.613704     0.640895     0.506867\n",
       "max      0.907712       0.932466     0.965569     0.776652"
      ]
     },
     "execution_count": 13,
     "metadata": {},
     "output_type": "execute_result"
    }
   ],
   "source": [
    "x_test.describe()"
   ]
  },
  {
   "cell_type": "code",
   "execution_count": 14,
   "metadata": {},
   "outputs": [
    {
     "data": {
      "text/html": [
       "<div>\n",
       "<style scoped>\n",
       "    .dataframe tbody tr th:only-of-type {\n",
       "        vertical-align: middle;\n",
       "    }\n",
       "\n",
       "    .dataframe tbody tr th {\n",
       "        vertical-align: top;\n",
       "    }\n",
       "\n",
       "    .dataframe thead th {\n",
       "        text-align: right;\n",
       "    }\n",
       "</style>\n",
       "<table border=\"1\" class=\"dataframe\">\n",
       "  <thead>\n",
       "    <tr style=\"text-align: right;\">\n",
       "      <th>color</th>\n",
       "      <th>black</th>\n",
       "      <th>blood</th>\n",
       "      <th>blue</th>\n",
       "      <th>clear</th>\n",
       "      <th>green</th>\n",
       "      <th>white</th>\n",
       "    </tr>\n",
       "    <tr>\n",
       "      <th>type</th>\n",
       "      <th></th>\n",
       "      <th></th>\n",
       "      <th></th>\n",
       "      <th></th>\n",
       "      <th></th>\n",
       "      <th></th>\n",
       "    </tr>\n",
       "  </thead>\n",
       "  <tbody>\n",
       "    <tr>\n",
       "      <th>Ghost</th>\n",
       "      <td>14</td>\n",
       "      <td>6</td>\n",
       "      <td>6</td>\n",
       "      <td>32</td>\n",
       "      <td>15</td>\n",
       "      <td>44</td>\n",
       "    </tr>\n",
       "    <tr>\n",
       "      <th>Ghoul</th>\n",
       "      <td>14</td>\n",
       "      <td>4</td>\n",
       "      <td>6</td>\n",
       "      <td>42</td>\n",
       "      <td>13</td>\n",
       "      <td>50</td>\n",
       "    </tr>\n",
       "    <tr>\n",
       "      <th>Goblin</th>\n",
       "      <td>13</td>\n",
       "      <td>2</td>\n",
       "      <td>7</td>\n",
       "      <td>46</td>\n",
       "      <td>14</td>\n",
       "      <td>43</td>\n",
       "    </tr>\n",
       "  </tbody>\n",
       "</table>\n",
       "</div>"
      ],
      "text/plain": [
       "color   black  blood  blue  clear  green  white\n",
       "type                                           \n",
       "Ghost      14      6     6     32     15     44\n",
       "Ghoul      14      4     6     42     13     50\n",
       "Goblin     13      2     7     46     14     43"
      ]
     },
     "execution_count": 14,
     "metadata": {},
     "output_type": "execute_result"
    }
   ],
   "source": [
    "# ще разгледаме категорните данни\n",
    "pd.crosstab(train.type,train.color)"
   ]
  },
  {
   "cell_type": "code",
   "execution_count": 15,
   "metadata": {},
   "outputs": [],
   "source": [
    "# изглежда, че цветовете няма да ни носят особена информация и ще тренираме без тях\n",
    "halloween = x_train.copy()\n",
    "halloween = halloween.drop(['color'], axis=1)"
   ]
  },
  {
   "cell_type": "code",
   "execution_count": 16,
   "metadata": {},
   "outputs": [
    {
     "data": {
      "text/html": [
       "<div>\n",
       "<style scoped>\n",
       "    .dataframe tbody tr th:only-of-type {\n",
       "        vertical-align: middle;\n",
       "    }\n",
       "\n",
       "    .dataframe tbody tr th {\n",
       "        vertical-align: top;\n",
       "    }\n",
       "\n",
       "    .dataframe thead th {\n",
       "        text-align: right;\n",
       "    }\n",
       "</style>\n",
       "<table border=\"1\" class=\"dataframe\">\n",
       "  <thead>\n",
       "    <tr style=\"text-align: right;\">\n",
       "      <th></th>\n",
       "      <th>has_soul</th>\n",
       "      <th>rotting_flesh</th>\n",
       "      <th>hair_length</th>\n",
       "      <th>bone_length</th>\n",
       "    </tr>\n",
       "    <tr>\n",
       "      <th>id</th>\n",
       "      <th></th>\n",
       "      <th></th>\n",
       "      <th></th>\n",
       "      <th></th>\n",
       "    </tr>\n",
       "  </thead>\n",
       "  <tbody>\n",
       "    <tr>\n",
       "      <th>590</th>\n",
       "      <td>0.415930</td>\n",
       "      <td>0.637446</td>\n",
       "      <td>0.416354</td>\n",
       "      <td>0.367799</td>\n",
       "    </tr>\n",
       "    <tr>\n",
       "      <th>429</th>\n",
       "      <td>0.230523</td>\n",
       "      <td>0.475223</td>\n",
       "      <td>0.558776</td>\n",
       "      <td>0.453214</td>\n",
       "    </tr>\n",
       "    <tr>\n",
       "      <th>840</th>\n",
       "      <td>0.593545</td>\n",
       "      <td>0.604174</td>\n",
       "      <td>0.617955</td>\n",
       "      <td>0.502599</td>\n",
       "    </tr>\n",
       "    <tr>\n",
       "      <th>766</th>\n",
       "      <td>0.464002</td>\n",
       "      <td>0.356863</td>\n",
       "      <td>0.658540</td>\n",
       "      <td>0.413576</td>\n",
       "    </tr>\n",
       "    <tr>\n",
       "      <th>340</th>\n",
       "      <td>0.292293</td>\n",
       "      <td>0.476217</td>\n",
       "      <td>0.597167</td>\n",
       "      <td>0.303391</td>\n",
       "    </tr>\n",
       "    <tr>\n",
       "      <th>224</th>\n",
       "      <td>0.285067</td>\n",
       "      <td>0.801465</td>\n",
       "      <td>0.230619</td>\n",
       "      <td>0.471764</td>\n",
       "    </tr>\n",
       "    <tr>\n",
       "      <th>...</th>\n",
       "      <td>...</td>\n",
       "      <td>...</td>\n",
       "      <td>...</td>\n",
       "      <td>...</td>\n",
       "    </tr>\n",
       "    <tr>\n",
       "      <th>435</th>\n",
       "      <td>0.263063</td>\n",
       "      <td>0.531701</td>\n",
       "      <td>0.428498</td>\n",
       "      <td>0.340442</td>\n",
       "    </tr>\n",
       "    <tr>\n",
       "      <th>728</th>\n",
       "      <td>0.725960</td>\n",
       "      <td>0.536090</td>\n",
       "      <td>0.751614</td>\n",
       "      <td>0.687080</td>\n",
       "    </tr>\n",
       "    <tr>\n",
       "      <th>204</th>\n",
       "      <td>0.674479</td>\n",
       "      <td>0.454637</td>\n",
       "      <td>0.783001</td>\n",
       "      <td>0.350838</td>\n",
       "    </tr>\n",
       "    <tr>\n",
       "      <th>23</th>\n",
       "      <td>0.935721</td>\n",
       "      <td>0.593082</td>\n",
       "      <td>0.681166</td>\n",
       "      <td>0.584543</td>\n",
       "    </tr>\n",
       "    <tr>\n",
       "      <th>506</th>\n",
       "      <td>0.625824</td>\n",
       "      <td>0.347566</td>\n",
       "      <td>0.427275</td>\n",
       "      <td>0.517632</td>\n",
       "    </tr>\n",
       "    <tr>\n",
       "      <th>487</th>\n",
       "      <td>0.787513</td>\n",
       "      <td>0.536456</td>\n",
       "      <td>0.408066</td>\n",
       "      <td>0.730848</td>\n",
       "    </tr>\n",
       "  </tbody>\n",
       "</table>\n",
       "<p>233 rows × 4 columns</p>\n",
       "</div>"
      ],
      "text/plain": [
       "     has_soul  rotting_flesh  hair_length  bone_length\n",
       "id                                                    \n",
       "590  0.415930       0.637446     0.416354     0.367799\n",
       "429  0.230523       0.475223     0.558776     0.453214\n",
       "840  0.593545       0.604174     0.617955     0.502599\n",
       "766  0.464002       0.356863     0.658540     0.413576\n",
       "340  0.292293       0.476217     0.597167     0.303391\n",
       "224  0.285067       0.801465     0.230619     0.471764\n",
       "..        ...            ...          ...          ...\n",
       "435  0.263063       0.531701     0.428498     0.340442\n",
       "728  0.725960       0.536090     0.751614     0.687080\n",
       "204  0.674479       0.454637     0.783001     0.350838\n",
       "23   0.935721       0.593082     0.681166     0.584543\n",
       "506  0.625824       0.347566     0.427275     0.517632\n",
       "487  0.787513       0.536456     0.408066     0.730848\n",
       "\n",
       "[233 rows x 4 columns]"
      ]
     },
     "execution_count": 16,
     "metadata": {},
     "output_type": "execute_result"
    }
   ],
   "source": [
    "halloween"
   ]
  },
  {
   "cell_type": "code",
   "execution_count": 17,
   "metadata": {},
   "outputs": [
    {
     "data": {
      "text/plain": [
       "<matplotlib.axes._subplots.AxesSubplot at 0x7fb03a9f9208>"
      ]
     },
     "execution_count": 17,
     "metadata": {},
     "output_type": "execute_result"
    },
    {
     "data": {
      "image/png": "[encoded data removed]",
      "text/plain": [
       "<matplotlib.figure.Figure at 0x7fb03aa51b00>"
      ]
     },
     "metadata": {},
     "output_type": "display_data"
    }
   ],
   "source": [
    "# да видим дали има корелации в данните ни\n",
    "corr = halloween.corr()\n",
    "f, ax = plt.subplots(figsize=(8, 6))\n",
    "cmap = sns.diverging_palette(10, 140, as_cmap=True)\n",
    "sns.heatmap(corr, cmap=cmap)"
   ]
  },
  {
   "cell_type": "code",
   "execution_count": 18,
   "metadata": {},
   "outputs": [],
   "source": [
    "# в сетът ни няма много фичърии  ще си направим няколко от комбинации на вече съществуващи\n",
    "halloween['bonel_hsoul'] = halloween['bone_length'] *  halloween['has_soul'] \n",
    "halloween['bonel_hairl'] = halloween['bone_length'] * halloween['hair_length']\n",
    "halloween['hairl_hsoul'] = halloween['hair_length'] * halloween['has_soul']"
   ]
  },
  {
   "cell_type": "code",
   "execution_count": 19,
   "metadata": {},
   "outputs": [
    {
     "data": {
      "text/html": [
       "<div>\n",
       "<style scoped>\n",
       "    .dataframe tbody tr th:only-of-type {\n",
       "        vertical-align: middle;\n",
       "    }\n",
       "\n",
       "    .dataframe tbody tr th {\n",
       "        vertical-align: top;\n",
       "    }\n",
       "\n",
       "    .dataframe thead th {\n",
       "        text-align: right;\n",
       "    }\n",
       "</style>\n",
       "<table border=\"1\" class=\"dataframe\">\n",
       "  <thead>\n",
       "    <tr style=\"text-align: right;\">\n",
       "      <th></th>\n",
       "      <th>has_soul</th>\n",
       "      <th>rotting_flesh</th>\n",
       "      <th>hair_length</th>\n",
       "      <th>bone_length</th>\n",
       "      <th>bonel_hsoul</th>\n",
       "      <th>bonel_hairl</th>\n",
       "      <th>hairl_hsoul</th>\n",
       "    </tr>\n",
       "  </thead>\n",
       "  <tbody>\n",
       "    <tr>\n",
       "      <th>count</th>\n",
       "      <td>233.000000</td>\n",
       "      <td>233.000000</td>\n",
       "      <td>233.000000</td>\n",
       "      <td>233.000000</td>\n",
       "      <td>233.000000</td>\n",
       "      <td>233.000000</td>\n",
       "      <td>233.000000</td>\n",
       "    </tr>\n",
       "    <tr>\n",
       "      <th>mean</th>\n",
       "      <td>0.479790</td>\n",
       "      <td>0.506408</td>\n",
       "      <td>0.536826</td>\n",
       "      <td>0.440737</td>\n",
       "      <td>0.220351</td>\n",
       "      <td>0.243604</td>\n",
       "      <td>0.269233</td>\n",
       "    </tr>\n",
       "    <tr>\n",
       "      <th>std</th>\n",
       "      <td>0.166916</td>\n",
       "      <td>0.144467</td>\n",
       "      <td>0.158400</td>\n",
       "      <td>0.137551</td>\n",
       "      <td>0.118968</td>\n",
       "      <td>0.118610</td>\n",
       "      <td>0.140627</td>\n",
       "    </tr>\n",
       "    <tr>\n",
       "      <th>min</th>\n",
       "      <td>0.009402</td>\n",
       "      <td>0.095687</td>\n",
       "      <td>0.164321</td>\n",
       "      <td>0.100945</td>\n",
       "      <td>0.004859</td>\n",
       "      <td>0.023789</td>\n",
       "      <td>0.003026</td>\n",
       "    </tr>\n",
       "    <tr>\n",
       "      <th>25%</th>\n",
       "      <td>0.363912</td>\n",
       "      <td>0.416513</td>\n",
       "      <td>0.416354</td>\n",
       "      <td>0.340442</td>\n",
       "      <td>0.136017</td>\n",
       "      <td>0.144174</td>\n",
       "      <td>0.170586</td>\n",
       "    </tr>\n",
       "    <tr>\n",
       "      <th>50%</th>\n",
       "      <td>0.472031</td>\n",
       "      <td>0.498718</td>\n",
       "      <td>0.545880</td>\n",
       "      <td>0.440855</td>\n",
       "      <td>0.201804</td>\n",
       "      <td>0.239108</td>\n",
       "      <td>0.255591</td>\n",
       "    </tr>\n",
       "    <tr>\n",
       "      <th>75%</th>\n",
       "      <td>0.600827</td>\n",
       "      <td>0.593537</td>\n",
       "      <td>0.651217</td>\n",
       "      <td>0.524080</td>\n",
       "      <td>0.286412</td>\n",
       "      <td>0.320706</td>\n",
       "      <td>0.365172</td>\n",
       "    </tr>\n",
       "    <tr>\n",
       "      <th>max</th>\n",
       "      <td>0.935721</td>\n",
       "      <td>0.929440</td>\n",
       "      <td>1.000000</td>\n",
       "      <td>0.817001</td>\n",
       "      <td>0.575552</td>\n",
       "      <td>0.655573</td>\n",
       "      <td>0.708692</td>\n",
       "    </tr>\n",
       "  </tbody>\n",
       "</table>\n",
       "</div>"
      ],
      "text/plain": [
       "         has_soul  rotting_flesh  hair_length  bone_length  bonel_hsoul  \\\n",
       "count  233.000000     233.000000   233.000000   233.000000   233.000000   \n",
       "mean     0.479790       0.506408     0.536826     0.440737     0.220351   \n",
       "std      0.166916       0.144467     0.158400     0.137551     0.118968   \n",
       "min      0.009402       0.095687     0.164321     0.100945     0.004859   \n",
       "25%      0.363912       0.416513     0.416354     0.340442     0.136017   \n",
       "50%      0.472031       0.498718     0.545880     0.440855     0.201804   \n",
       "75%      0.600827       0.593537     0.651217     0.524080     0.286412   \n",
       "max      0.935721       0.929440     1.000000     0.817001     0.575552   \n",
       "\n",
       "       bonel_hairl  hairl_hsoul  \n",
       "count   233.000000   233.000000  \n",
       "mean      0.243604     0.269233  \n",
       "std       0.118610     0.140627  \n",
       "min       0.023789     0.003026  \n",
       "25%       0.144174     0.170586  \n",
       "50%       0.239108     0.255591  \n",
       "75%       0.320706     0.365172  \n",
       "max       0.655573     0.708692  "
      ]
     },
     "execution_count": 19,
     "metadata": {},
     "output_type": "execute_result"
    }
   ],
   "source": [
    "halloween.describe()"
   ]
  },
  {
   "cell_type": "code",
   "execution_count": 20,
   "metadata": {},
   "outputs": [],
   "source": [
    "x_test_halloween = x_test.copy()\n",
    "x_test_halloween['bonel_hsoul'] = x_test_halloween['bone_length'] *  x_test_halloween['has_soul'] \n",
    "x_test_halloween['bonel_hairl'] = x_test_halloween['bone_length'] * x_test_halloween['hair_length']\n",
    "x_test_halloween['hairl_hsoul'] = x_test_halloween['hair_length'] * x_test_halloween['has_soul']\n",
    "x_test_halloween = x_test_halloween.drop(['color'], axis=1)"
   ]
  },
  {
   "cell_type": "code",
   "execution_count": 21,
   "metadata": {},
   "outputs": [
    {
     "data": {
      "text/html": [
       "<div>\n",
       "<style scoped>\n",
       "    .dataframe tbody tr th:only-of-type {\n",
       "        vertical-align: middle;\n",
       "    }\n",
       "\n",
       "    .dataframe tbody tr th {\n",
       "        vertical-align: top;\n",
       "    }\n",
       "\n",
       "    .dataframe thead th {\n",
       "        text-align: right;\n",
       "    }\n",
       "</style>\n",
       "<table border=\"1\" class=\"dataframe\">\n",
       "  <thead>\n",
       "    <tr style=\"text-align: right;\">\n",
       "      <th></th>\n",
       "      <th>has_soul</th>\n",
       "      <th>rotting_flesh</th>\n",
       "      <th>hair_length</th>\n",
       "      <th>bone_length</th>\n",
       "      <th>bonel_hsoul</th>\n",
       "      <th>bonel_hairl</th>\n",
       "      <th>hairl_hsoul</th>\n",
       "    </tr>\n",
       "  </thead>\n",
       "  <tbody>\n",
       "    <tr>\n",
       "      <th>count</th>\n",
       "      <td>138.000000</td>\n",
       "      <td>138.000000</td>\n",
       "      <td>138.000000</td>\n",
       "      <td>138.000000</td>\n",
       "      <td>138.000000</td>\n",
       "      <td>138.000000</td>\n",
       "      <td>138.000000</td>\n",
       "    </tr>\n",
       "    <tr>\n",
       "      <th>mean</th>\n",
       "      <td>0.457213</td>\n",
       "      <td>0.507593</td>\n",
       "      <td>0.516094</td>\n",
       "      <td>0.423056</td>\n",
       "      <td>0.202107</td>\n",
       "      <td>0.227692</td>\n",
       "      <td>0.254066</td>\n",
       "    </tr>\n",
       "    <tr>\n",
       "      <th>std</th>\n",
       "      <td>0.190467</td>\n",
       "      <td>0.150025</td>\n",
       "      <td>0.187617</td>\n",
       "      <td>0.124158</td>\n",
       "      <td>0.120272</td>\n",
       "      <td>0.125420</td>\n",
       "      <td>0.159187</td>\n",
       "    </tr>\n",
       "    <tr>\n",
       "      <th>min</th>\n",
       "      <td>0.043321</td>\n",
       "      <td>0.158742</td>\n",
       "      <td>0.134600</td>\n",
       "      <td>0.061032</td>\n",
       "      <td>0.018943</td>\n",
       "      <td>0.024790</td>\n",
       "      <td>0.009476</td>\n",
       "    </tr>\n",
       "    <tr>\n",
       "      <th>25%</th>\n",
       "      <td>0.318752</td>\n",
       "      <td>0.409053</td>\n",
       "      <td>0.390485</td>\n",
       "      <td>0.340062</td>\n",
       "      <td>0.112203</td>\n",
       "      <td>0.140364</td>\n",
       "      <td>0.116130</td>\n",
       "    </tr>\n",
       "    <tr>\n",
       "      <th>50%</th>\n",
       "      <td>0.447923</td>\n",
       "      <td>0.514517</td>\n",
       "      <td>0.528192</td>\n",
       "      <td>0.416702</td>\n",
       "      <td>0.175299</td>\n",
       "      <td>0.200917</td>\n",
       "      <td>0.228431</td>\n",
       "    </tr>\n",
       "    <tr>\n",
       "      <th>75%</th>\n",
       "      <td>0.599801</td>\n",
       "      <td>0.613704</td>\n",
       "      <td>0.640895</td>\n",
       "      <td>0.506867</td>\n",
       "      <td>0.276018</td>\n",
       "      <td>0.299012</td>\n",
       "      <td>0.364618</td>\n",
       "    </tr>\n",
       "    <tr>\n",
       "      <th>max</th>\n",
       "      <td>0.907712</td>\n",
       "      <td>0.932466</td>\n",
       "      <td>0.965569</td>\n",
       "      <td>0.776652</td>\n",
       "      <td>0.686921</td>\n",
       "      <td>0.729292</td>\n",
       "      <td>0.734639</td>\n",
       "    </tr>\n",
       "  </tbody>\n",
       "</table>\n",
       "</div>"
      ],
      "text/plain": [
       "         has_soul  rotting_flesh  hair_length  bone_length  bonel_hsoul  \\\n",
       "count  138.000000     138.000000   138.000000   138.000000   138.000000   \n",
       "mean     0.457213       0.507593     0.516094     0.423056     0.202107   \n",
       "std      0.190467       0.150025     0.187617     0.124158     0.120272   \n",
       "min      0.043321       0.158742     0.134600     0.061032     0.018943   \n",
       "25%      0.318752       0.409053     0.390485     0.340062     0.112203   \n",
       "50%      0.447923       0.514517     0.528192     0.416702     0.175299   \n",
       "75%      0.599801       0.613704     0.640895     0.506867     0.276018   \n",
       "max      0.907712       0.932466     0.965569     0.776652     0.686921   \n",
       "\n",
       "       bonel_hairl  hairl_hsoul  \n",
       "count   138.000000   138.000000  \n",
       "mean      0.227692     0.254066  \n",
       "std       0.125420     0.159187  \n",
       "min       0.024790     0.009476  \n",
       "25%       0.140364     0.116130  \n",
       "50%       0.200917     0.228431  \n",
       "75%       0.299012     0.364618  \n",
       "max       0.729292     0.734639  "
      ]
     },
     "execution_count": 21,
     "metadata": {},
     "output_type": "execute_result"
    }
   ],
   "source": [
    "x_test_halloween.describe()"
   ]
  },
  {
   "cell_type": "code",
   "execution_count": 22,
   "metadata": {},
   "outputs": [
    {
     "name": "stdout",
     "output_type": "stream",
     "text": [
      "(233, 7)\n",
      "(233,)\n"
     ]
    }
   ],
   "source": [
    "from sklearn.preprocessing import LabelEncoder\n",
    "\n",
    "le = LabelEncoder()\n",
    "y_train = le.fit_transform(y_train)\n",
    "y_test = le.fit_transform(y_test)\n",
    "\n",
    "print (halloween.shape)\n",
    "print (y_train.shape)"
   ]
  },
  {
   "cell_type": "code",
   "execution_count": 23,
   "metadata": {},
   "outputs": [
    {
     "name": "stdout",
     "output_type": "stream",
     "text": [
      "Best score: 0.721030042918455\n",
      "Best parameters: {'min_weight_fraction_leaf': 0.1, 'max_leaf_nodes': 10, 'min_samples_split': 2, 'max_depth': 1, 'random_state': 1280}\n"
     ]
    }
   ],
   "source": [
    "from sklearn.ensemble import RandomForestClassifier\n",
    "from sklearn.model_selection import GridSearchCV\n",
    "\n",
    "classifier = RandomForestClassifier(n_estimators = 20, criterion = 'gini', max_features = 'auto')\n",
    "parameter_grid = {\n",
    "                  'max_depth' : [None, 1, 10, 50, 100],\n",
    "                  'min_samples_split' : [2, 3, 6, 9],\n",
    "                  'min_weight_fraction_leaf' : [0.0, 0.01, 0.1],\n",
    "                  'max_leaf_nodes' : [10, 20, 30, 40],\n",
    "                  'random_state' : [1280],\n",
    "                 }\n",
    "\n",
    "gsearch_rf = GridSearchCV(classifier, param_grid=parameter_grid)\n",
    "gsearch_rf.fit(halloween, y_train)\n",
    "\n",
    "print('Best score: {}'.format(gsearch_rf.best_score_))\n",
    "print('Best parameters: {}'.format(gsearch_rf.best_params_))"
   ]
  },
  {
   "cell_type": "code",
   "execution_count": 24,
   "metadata": {},
   "outputs": [
    {
     "name": "stdout",
     "output_type": "stream",
     "text": [
      "Best score: 0.7253218884120172\n",
      "Best parameters: {'min_weight_fraction_leaf': 0.05, 'max_leaf_nodes': 20, 'min_samples_split': 9, 'max_depth': None, 'random_state': 1280}\n"
     ]
    }
   ],
   "source": [
    "# Видяхме кои са най-добрите параметри ще проверим и с други за по-добър резултат\n",
    "from sklearn.ensemble import RandomForestClassifier\n",
    "from sklearn.model_selection import GridSearchCV\n",
    "\n",
    "classifier = RandomForestClassifier(n_estimators = 20, criterion = 'gini', max_features = 'auto')\n",
    "parameter_grid = {\n",
    "                  'max_depth' : [None, 1, 10, 50, 100],\n",
    "                  'min_samples_split' : [2, 3, 6, 9],\n",
    "                  'min_weight_fraction_leaf' : [0.0, 0.001, 0.01, 0.05, 0.1],\n",
    "                  'max_leaf_nodes' : [10, 20, 30, 40, 50, 60],\n",
    "                  'random_state' : [1280],\n",
    "                 }\n",
    "\n",
    "gsearch_rf = GridSearchCV(classifier, param_grid=parameter_grid)\n",
    "gsearch_rf.fit(halloween, y_train)\n",
    "\n",
    "print('Best score: {}'.format(gsearch_rf.best_score_))\n",
    "print('Best parameters: {}'.format(gsearch_rf.best_params_))"
   ]
  },
  {
   "cell_type": "code",
   "execution_count": 25,
   "metadata": {},
   "outputs": [
    {
     "name": "stdout",
     "output_type": "stream",
     "text": [
      "Best score: 0.782608695652174\n"
     ]
    }
   ],
   "source": [
    "#Test score\n",
    "gsearch_rf.fit(x_test_halloween, y_test)\n",
    "print('Best score: {}'.format(gsearch_rf.best_score_))"
   ]
  },
  {
   "cell_type": "code",
   "execution_count": 26,
   "metadata": {},
   "outputs": [],
   "source": [
    "# Няма промяна в най-добрите резултати, така че ще запазим тези параметри"
   ]
  },
  {
   "cell_type": "code",
   "execution_count": 27,
   "metadata": {},
   "outputs": [
    {
     "name": "stdout",
     "output_type": "stream",
     "text": [
      "Best score: 0.7124463519313304\n",
      "Best parameters: {'C': 10, 'tol': 0.01}\n"
     ]
    }
   ],
   "source": [
    "# Ще пробваме и с логистична регресия\n",
    "\n",
    "from sklearn.linear_model import LogisticRegression\n",
    "\n",
    "lg = LogisticRegression()\n",
    "\n",
    "param = {\n",
    "                  'C' : [0.005, 0.01, 1, 5, 10],\n",
    "                  'tol': [0.0001, 0.001, 0.005, 0.01]\n",
    "                 }\n",
    "\n",
    "grid_search = GridSearchCV(lg, param_grid=param)\n",
    "grid_search.fit(halloween, y_train)\n",
    "\n",
    "print('Best score: {}'.format(grid_search.best_score_))\n",
    "print('Best parameters: {}'.format(grid_search.best_params_))"
   ]
  },
  {
   "cell_type": "code",
   "execution_count": 28,
   "metadata": {},
   "outputs": [
    {
     "name": "stdout",
     "output_type": "stream",
     "text": [
      "Best score: 0.7081545064377682\n",
      "Best parameters: {'C': 10, 'tol': 0.0005}\n"
     ]
    }
   ],
   "source": [
    "from sklearn.linear_model import LogisticRegression\n",
    "\n",
    "lg = LogisticRegression()\n",
    "\n",
    "param = {\n",
    "                  'C' : [1, 5, 10, 15 , 20],\n",
    "                  'tol': [0.0005, 0.0001, 0.001, 0.005]\n",
    "                 }\n",
    "\n",
    "grid_search = GridSearchCV(lg, param_grid=param)\n",
    "grid_search.fit(halloween, y_train)\n",
    "\n",
    "print('Best score: {}'.format(grid_search.best_score_))\n",
    "print('Best parameters: {}'.format(grid_search.best_params_))"
   ]
  },
  {
   "cell_type": "code",
   "execution_count": 29,
   "metadata": {},
   "outputs": [
    {
     "name": "stdout",
     "output_type": "stream",
     "text": [
      "Best score: 0.7124463519313304\n",
      "Best parameters: {'C': 5, 'tol': 0.0005, 'solver': 'newton-cg', 'random_state': 1280, 'fit_intercept': True}\n"
     ]
    }
   ],
   "source": [
    "from sklearn.linear_model import LogisticRegression\n",
    "\n",
    "lg = LogisticRegression()\n",
    "\n",
    "param = {\n",
    "                  'C' : [1, 5, 10, 15 , 20],\n",
    "                  'tol': [0.0005, 0.0001, 0.001, 0.005],\n",
    "                  'fit_intercept': [False, True],\n",
    "                  'random_state': [1280],\n",
    "                  'solver': ['newton-cg', 'lbfgs', 'liblinear']\n",
    "                 }\n",
    "\n",
    "grid_search = GridSearchCV(lg, param_grid=param)\n",
    "grid_search.fit(halloween, y_train)\n",
    "\n",
    "print('Best score: {}'.format(grid_search.best_score_))\n",
    "print('Best parameters: {}'.format(grid_search.best_params_))"
   ]
  },
  {
   "cell_type": "code",
   "execution_count": 30,
   "metadata": {},
   "outputs": [
    {
     "data": {
      "text/plain": [
       "LogisticRegression(C=1.0, class_weight=None, dual=False, fit_intercept=True,\n",
       "          intercept_scaling=1, max_iter=100, multi_class='ovr', n_jobs=1,\n",
       "          penalty='l2', random_state=None, solver='liblinear', tol=0.0001,\n",
       "          verbose=0, warm_start=False)"
      ]
     },
     "execution_count": 30,
     "metadata": {},
     "output_type": "execute_result"
    }
   ],
   "source": [
    "lg.fit(halloween, y_train)"
   ]
  },
  {
   "cell_type": "code",
   "execution_count": 31,
   "metadata": {},
   "outputs": [
    {
     "data": {
      "text/plain": [
       "0.66952789699570814"
      ]
     },
     "execution_count": 31,
     "metadata": {},
     "output_type": "execute_result"
    }
   ],
   "source": [
    "lg.score(halloween, y_train)"
   ]
  },
  {
   "cell_type": "code",
   "execution_count": 32,
   "metadata": {},
   "outputs": [
    {
     "data": {
      "text/plain": [
       "Ridge(alpha=10, copy_X=True, fit_intercept=True, max_iter=None,\n",
       "   normalize=False, random_state=None, solver='auto', tol=0.001)"
      ]
     },
     "execution_count": 32,
     "metadata": {},
     "output_type": "execute_result"
    }
   ],
   "source": [
    "from sklearn.linear_model import Ridge\n",
    "\n",
    "ridge = Ridge(alpha=10)\n",
    "ridge.fit(halloween, y_train)"
   ]
  },
  {
   "cell_type": "code",
   "execution_count": 33,
   "metadata": {},
   "outputs": [],
   "source": [
    "from sklearn.preprocessing import LabelEncoder\n",
    "\n",
    "le = LabelEncoder()\n",
    "y_test = le.fit_transform(y_test)"
   ]
  },
  {
   "cell_type": "code",
   "execution_count": 34,
   "metadata": {},
   "outputs": [
    {
     "data": {
      "text/plain": [
       "0.75362318840579712"
      ]
     },
     "execution_count": 34,
     "metadata": {},
     "output_type": "execute_result"
    }
   ],
   "source": [
    "#Test score\n",
    "lg.score(x_test_halloween, y_test)"
   ]
  },
  {
   "cell_type": "code",
   "execution_count": 35,
   "metadata": {},
   "outputs": [],
   "source": [
    "# Ще опитаме и  с DecisionTree"
   ]
  },
  {
   "cell_type": "code",
   "execution_count": 36,
   "metadata": {},
   "outputs": [
    {
     "name": "stdout",
     "output_type": "stream",
     "text": [
      "1.0\n",
      "test score:  0.702898550725\n"
     ]
    }
   ],
   "source": [
    "from sklearn.datasets import make_classification\n",
    "from sklearn.tree import DecisionTreeClassifier\n",
    "from sklearn import tree\n",
    "from sklearn.model_selection import cross_val_score\n",
    "\n",
    "classifier = DecisionTreeClassifier().fit(halloween, y_train)\n",
    "print(classifier.score(halloween, y_train))\n",
    "print(\"test score: \", classifier.score(x_test_halloween, y_test))"
   ]
  },
  {
   "cell_type": "code",
   "execution_count": 37,
   "metadata": {},
   "outputs": [
    {
     "name": "stdout",
     "output_type": "stream",
     "text": [
      "0.729613733906\n",
      "test score:  0.666666666667\n"
     ]
    }
   ],
   "source": [
    "classifier = DecisionTreeClassifier(min_samples_split=50).fit(halloween, y_train)\n",
    "print(classifier.score(halloween, y_train))\n",
    "print(\"test score: \", classifier.score(x_test_halloween, y_test))"
   ]
  },
  {
   "cell_type": "code",
   "execution_count": 38,
   "metadata": {},
   "outputs": [
    {
     "name": "stdout",
     "output_type": "stream",
     "text": [
      "0.673819742489\n",
      "test score:  0.666666666667\n"
     ]
    }
   ],
   "source": [
    "classifier = DecisionTreeClassifier(min_samples_split=100).fit(halloween, y_train)\n",
    "print(classifier.score(halloween, y_train))\n",
    "print(\"test score: \", classifier.score(x_test_halloween, y_test))"
   ]
  },
  {
   "cell_type": "code",
   "execution_count": 39,
   "metadata": {},
   "outputs": [],
   "source": [
    "# Ще опитаме и като си създадем допълнително фичъри с PolynomialFeatures  ще тренираме по същите начини\n",
    "from sklearn.preprocessing import PolynomialFeatures\n",
    "\n",
    "# , x_test_with_Polynomial, y_train_with_Polynomial, y_test_with_Polynomial\n",
    "\n",
    "x_train_with_Polynomial = x_train_with_Polynomial.drop(['color'], axis=1)\n",
    "x_test_with_Polynomial = x_test_with_Polynomial.drop(['color'], axis=1)\n",
    "\n"
   ]
  },
  {
   "cell_type": "code",
   "execution_count": 40,
   "metadata": {},
   "outputs": [
    {
     "data": {
      "text/plain": [
       "array([[ 1.        ,  0.41592986,  0.63744629, ...,  0.17335043,\n",
       "         0.15313447,  0.13527607],\n",
       "       [ 1.        ,  0.23052293,  0.47522345, ...,  0.31223107,\n",
       "         0.25324501,  0.20540248],\n",
       "       [ 1.        ,  0.59354486,  0.60417429, ...,  0.38186798,\n",
       "         0.31058345,  0.25260584],\n",
       "       ..., \n",
       "       [ 1.        ,  0.93572133,  0.59308194, ...,  0.4639868 ,\n",
       "         0.39817083,  0.34169078],\n",
       "       [ 1.        ,  0.62582412,  0.34756618, ...,  0.18256412,\n",
       "         0.22117121,  0.26794261],\n",
       "       [ 1.        ,  0.78751279,  0.53645578, ...,  0.16651752,\n",
       "         0.29823397,  0.53413898]])"
      ]
     },
     "execution_count": 40,
     "metadata": {},
     "output_type": "execute_result"
    }
   ],
   "source": [
    "poly = PolynomialFeatures(2)\n",
    "poly.fit_transform(x_train_with_Polynomial)"
   ]
  },
  {
   "cell_type": "code",
   "execution_count": 41,
   "metadata": {},
   "outputs": [],
   "source": [
    "# poly = PolynomialFeatures(interaction_only=True)\n",
    "# poly.fit_transform(x_train_with_Polynomial)"
   ]
  },
  {
   "cell_type": "code",
   "execution_count": 42,
   "metadata": {},
   "outputs": [
    {
     "name": "stdout",
     "output_type": "stream",
     "text": [
      "Best score: 0.6866952789699571\n",
      "Best parameters: {'C': 20, 'tol': 0.0005, 'solver': 'liblinear', 'random_state': 1280, 'fit_intercept': True}\n"
     ]
    }
   ],
   "source": [
    "from sklearn.linear_model import LogisticRegression\n",
    "\n",
    "lg = LogisticRegression()\n",
    "\n",
    "param = {\n",
    "                  'C' : [1, 5, 10, 15 , 20],\n",
    "                  'tol': [0.0005, 0.0001, 0.001, 0.005],\n",
    "                  'fit_intercept': [False, True],\n",
    "                  'random_state': [1280],\n",
    "                  'solver': ['newton-cg', 'lbfgs', 'liblinear']\n",
    "                 }\n",
    "\n",
    "grid_search = GridSearchCV(lg, param_grid=param)\n",
    "grid_search.fit(x_train_with_Polynomial, y_train_with_Polynomial)\n",
    "\n",
    "print('Best score: {}'.format(grid_search.best_score_))\n",
    "print('Best parameters: {}'.format(grid_search.best_params_))"
   ]
  },
  {
   "cell_type": "code",
   "execution_count": 43,
   "metadata": {},
   "outputs": [
    {
     "data": {
      "text/plain": [
       "LogisticRegression(C=1.0, class_weight=None, dual=False, fit_intercept=True,\n",
       "          intercept_scaling=1, max_iter=100, multi_class='ovr', n_jobs=1,\n",
       "          penalty='l2', random_state=None, solver='liblinear', tol=0.0001,\n",
       "          verbose=0, warm_start=False)"
      ]
     },
     "execution_count": 43,
     "metadata": {},
     "output_type": "execute_result"
    }
   ],
   "source": [
    "lg.fit(x_train_with_Polynomial, y_train_with_Polynomial)"
   ]
  },
  {
   "cell_type": "code",
   "execution_count": 44,
   "metadata": {},
   "outputs": [
    {
     "data": {
      "text/plain": [
       "0.74637681159420288"
      ]
     },
     "execution_count": 44,
     "metadata": {},
     "output_type": "execute_result"
    }
   ],
   "source": [
    "lg.score(x_test_with_Polynomial, y_test_with_Polynomial)"
   ]
  },
  {
   "cell_type": "code",
   "execution_count": 45,
   "metadata": {},
   "outputs": [
    {
     "name": "stdout",
     "output_type": "stream",
     "text": [
      "1.0\n",
      "test score:  0.702898550725\n"
     ]
    }
   ],
   "source": [
    "classifier = DecisionTreeClassifier().fit(x_train_with_Polynomial, y_train_with_Polynomial)\n",
    "print(classifier.score(x_train_with_Polynomial, y_train_with_Polynomial))\n",
    "print(\"test score: \", classifier.score(x_test_with_Polynomial, y_test_with_Polynomial))"
   ]
  },
  {
   "cell_type": "code",
   "execution_count": 46,
   "metadata": {},
   "outputs": [
    {
     "name": "stdout",
     "output_type": "stream",
     "text": [
      "0.738197424893\n",
      "test score:  0.666666666667\n"
     ]
    }
   ],
   "source": [
    "classifier = DecisionTreeClassifier(min_samples_split=50).fit(x_train_with_Polynomial, y_train_with_Polynomial)\n",
    "print(classifier.score(x_train_with_Polynomial, y_train_with_Polynomial))\n",
    "print(\"test score: \", classifier.score(x_test_with_Polynomial, y_test_with_Polynomial))"
   ]
  },
  {
   "cell_type": "code",
   "execution_count": 47,
   "metadata": {},
   "outputs": [
    {
     "name": "stdout",
     "output_type": "stream",
     "text": [
      "0.643776824034\n",
      "test score:  0.652173913043\n"
     ]
    }
   ],
   "source": [
    "classifier = DecisionTreeClassifier(min_samples_split=100).fit(x_train_with_Polynomial, y_train_with_Polynomial)\n",
    "print(classifier.score(x_train_with_Polynomial, y_train_with_Polynomial))\n",
    "print(\"test score: \", classifier.score(x_test_with_Polynomial, y_test_with_Polynomial))"
   ]
  },
  {
   "cell_type": "code",
   "execution_count": 48,
   "metadata": {},
   "outputs": [
    {
     "name": "stdout",
     "output_type": "stream",
     "text": [
      "Best score: 0.6866952789699571\n",
      "Best parameters: {'min_weight_fraction_leaf': 0.1, 'max_leaf_nodes': 10, 'min_samples_split': 2, 'max_depth': 1, 'random_state': 1280}\n"
     ]
    }
   ],
   "source": [
    "from sklearn.ensemble import RandomForestClassifier\n",
    "from sklearn.model_selection import GridSearchCV\n",
    "\n",
    "classifier = RandomForestClassifier(n_estimators = 20, criterion = 'gini', max_features = 'auto')\n",
    "parameter_grid = {\n",
    "                  'max_depth' : [None, 1, 10, 50, 100],\n",
    "                  'min_samples_split' : [2, 3, 6, 9],\n",
    "                  'min_weight_fraction_leaf' : [0.0, 0.01, 0.1],\n",
    "                  'max_leaf_nodes' : [10, 20, 30, 40],\n",
    "                  'random_state' : [1280],\n",
    "                 }\n",
    "\n",
    "gsearch_rf = GridSearchCV(classifier, param_grid=parameter_grid)\n",
    "gsearch_rf.fit(x_train_with_Polynomial, y_train_with_Polynomial)\n",
    "\n",
    "print('Best score: {}'.format(gsearch_rf.best_score_))\n",
    "print('Best parameters: {}'.format(gsearch_rf.best_params_))"
   ]
  },
  {
   "cell_type": "code",
   "execution_count": 49,
   "metadata": {},
   "outputs": [
    {
     "name": "stdout",
     "output_type": "stream",
     "text": [
      "Best score: 0.7898550724637681\n"
     ]
    }
   ],
   "source": [
    "#Test score\n",
    "gsearch_rf.fit(x_test_with_Polynomial, y_test_with_Polynomial)\n",
    "print('Best score: {}'.format(gsearch_rf.best_score_))"
   ]
  },
  {
   "cell_type": "code",
   "execution_count": 50,
   "metadata": {},
   "outputs": [
    {
     "name": "stdout",
     "output_type": "stream",
     "text": [
      "Best score: 0.703862660944206\n",
      "Best parameters: {'min_weight_fraction_leaf': 0.01, 'max_leaf_nodes': 5, 'min_samples_split': 6, 'max_depth': None, 'random_state': 1280}\n"
     ]
    }
   ],
   "source": [
    "# Ще опитаме и с други параметри\n",
    "\n",
    "classifier = RandomForestClassifier(n_estimators = 20, criterion = 'gini', max_features = 'auto')\n",
    "parameter_grid = {\n",
    "                  'max_depth' : [None, 1, 10, 50, 100],\n",
    "                  'min_samples_split' : [2, 3, 6],\n",
    "                  'min_weight_fraction_leaf' : [0.01, 0.1, 0.2, 0.5],\n",
    "                  'max_leaf_nodes' : [2, 5, 7,10, 20],\n",
    "                  'random_state' : [1280],\n",
    "                 }\n",
    "\n",
    "gsearch_rf = GridSearchCV(classifier, param_grid=parameter_grid)\n",
    "gsearch_rf.fit(x_train_with_Polynomial, y_train_with_Polynomial)\n",
    "\n",
    "print('Best score: {}'.format(gsearch_rf.best_score_))\n",
    "print('Best parameters: {}'.format(gsearch_rf.best_params_))"
   ]
  },
  {
   "cell_type": "code",
   "execution_count": 51,
   "metadata": {},
   "outputs": [
    {
     "name": "stdout",
     "output_type": "stream",
     "text": [
      "Best score: 0.7898550724637681\n"
     ]
    }
   ],
   "source": [
    "#Test score\n",
    "gsearch_rf.fit(x_test_with_Polynomial, y_test_with_Polynomial)\n",
    "print('Best score: {}'.format(gsearch_rf.best_score_))"
   ]
  },
  {
   "cell_type": "code",
   "execution_count": null,
   "metadata": {},
   "outputs": [],
   "source": []
  }
 ],
 "metadata": {
  "kernelspec": {
   "display_name": "Python 3",
   "language": "python",
   "name": "python3"
  },
  "language_info": {
   "codemirror_mode": {
    "name": "ipython",
    "version": 3
   },
   "file_extension": ".py",
   "mimetype": "text/x-python",
   "name": "python",
   "nbconvert_exporter": "python",
   "pygments_lexer": "ipython3",
   "version": "3.4.3+"
  }
 },
 "nbformat": 4,
 "nbformat_minor": 2
}
